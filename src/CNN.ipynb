{
 "cells": [
  {
   "cell_type": "markdown",
   "id": "18f03e0a",
   "metadata": {},
   "source": [
    "# IMPORTS"
   ]
  },
  {
   "cell_type": "code",
   "execution_count": 28,
   "id": "2e87646f",
   "metadata": {},
   "outputs": [],
   "source": [
    "import numpy as np\n",
    "import pandas as pd\n",
    "from sklearn.preprocessing import MinMaxScaler, StandardScaler\n",
    "import tensorflow as tf\n",
    "from tensorflow.keras.models import Sequential\n",
    "from tensorflow.keras.layers import Dense, LSTM, Conv1D, MaxPooling1D, Flatten, Dropout, AveragePooling1D\n",
    "import matplotlib.pyplot as plt\n",
    "from sklearn.metrics import mean_squared_error\n",
    "from sklearn.metrics import mean_absolute_error, r2_score\n",
    "import pandas as pd\n",
    "from sklearn.preprocessing import MinMaxScaler, StandardScaler\n",
    "from tensorflow.keras.models import Sequential\n",
    "from tensorflow.keras.layers import LSTM, Dense\n",
    "import numpy as np\n",
    "from config.metadata import PATHS\n",
    "import os\n",
    "import pandas as pd\n",
    "from sklearn.preprocessing import MinMaxScaler, StandardScaler\n",
    "from tensorflow.keras.models import Sequential\n",
    "from tensorflow.keras.layers import LSTM, Dense\n",
    "import numpy as np\n",
    "from config.metadata import PATHS\n",
    "import os\n",
    "import matplotlib.pyplot as plt\n",
    "from tensorflow.keras import regularizers\n",
    "\n",
    "import warnings\n",
    "warnings.simplefilter(action='ignore', category=FutureWarning)\n",
    "\n",
    "from tensorflow.keras.layers import (\n",
    "    Dense,\n",
    "    LSTM,\n",
    "   \n",
    ")\n",
    "from tensorflow.keras.models import Sequential\n",
    "\n",
    "\n",
    "\n"
   ]
  },
  {
   "cell_type": "code",
   "execution_count": 29,
   "id": "fc045688",
   "metadata": {},
   "outputs": [],
   "source": [
    "def custom_loss(y_true, y_pred):\n",
    "    # Definir los pesos para cada hora del día\n",
    "    weights = np.ones(24) \n",
    "    weights[0] = 2\n",
    "    weights[6:9] = 3\n",
    "    weights[9] = 2  # Peso mayor para las horas de 6 a 8 de la mañana\n",
    "    weights[18:20]  = 2\n",
    "    weights[20:22] = 3  # Peso mayor para las horas de 8 a 10 de la noche\n",
    "    weights[22:24] = 2\n",
    "    # Calcular los errores ponderados\n",
    "    errors = tf.abs(y_true - y_pred)\n",
    "    weighted_errors = tf.pow(errors , weights)\n",
    "    \n",
    "    # Calcular la métrica de pérdida como la suma de los errores ponderados\n",
    "    loss = tf.reduce_sum(weighted_errors)\n",
    "    \n",
    "    return loss\n",
    "\n",
    "def create_sequences(data, seq_length, future_steps):\n",
    "    X = []\n",
    "    y = []\n",
    "    for i in range(0, len(data) - seq_length - future_steps + 1, 24):\n",
    "        X.append(data.iloc[i:i+seq_length, :])\n",
    "        y.append(data.iloc[i+seq_length:i+seq_length+future_steps, 0])\n",
    "    return np.array(X), np.array(y)\n",
    "\n"
   ]
  },
  {
   "cell_type": "markdown",
   "id": "82736cf5",
   "metadata": {},
   "source": [
    "# PARAMS"
   ]
  },
  {
   "cell_type": "code",
   "execution_count": 30,
   "id": "62f8001a",
   "metadata": {},
   "outputs": [],
   "source": [
    "model_days = 90\n",
    "validation_days = 7\n",
    "test_days = 14\n",
    "seq_length = 24\n",
    "future_steps = 24"
   ]
  },
  {
   "cell_type": "markdown",
   "id": "8032f7e1",
   "metadata": {
    "id": "8032f7e1"
   },
   "source": [
    "# LOAD DATA"
   ]
  },
  {
   "cell_type": "code",
   "execution_count": 31,
   "id": "62273f81",
   "metadata": {},
   "outputs": [],
   "source": [
    "# Cargar los datos\n",
    "df = pd.read_excel(\n",
    "    os.path.join(PATHS['LOCAL']['root'], 'datasets', 'dataset_input_v1_2.xlsx')\n",
    ")\n",
    "\n",
    "df = df.rename(columns={'EUA': 'co2'})\n",
    "df['fechaHora'] = pd.to_datetime(df['fechaHora'])\n",
    "\n",
    "df = df.dropna(subset=['precio_spot'])\n"
   ]
  },
  {
   "cell_type": "markdown",
   "id": "07d521e7",
   "metadata": {},
   "source": [
    "Nos quedamos con los 'n' ultimos datos del dataframe (segun parametro model_days)"
   ]
  },
  {
   "cell_type": "code",
   "execution_count": 32,
   "id": "60de3a92",
   "metadata": {},
   "outputs": [
    {
     "name": "stderr",
     "output_type": "stream",
     "text": [
      "C:\\Users\\nicov\\AppData\\Local\\Temp\\ipykernel_27948\\3487348636.py:8: SettingWithCopyWarning:\n",
      "\n",
      "\n",
      "A value is trying to be set on a copy of a slice from a DataFrame.\n",
      "Try using .loc[row_indexer,col_indexer] = value instead\n",
      "\n",
      "See the caveats in the documentation: https://pandas.pydata.org/pandas-docs/stable/user_guide/indexing.html#returning-a-view-versus-a-copy\n",
      "\n"
     ]
    }
   ],
   "source": [
    "\n",
    "\n",
    "now = pd.Timestamp.now()\n",
    "last_day = df['fechaHora'].iloc[-1]\n",
    "# Calcula la fecha hace dos meses utilizando timedelta\n",
    "fecha_start = (last_day - pd.Timedelta(days=model_days)).replace(hour=0, minute=0, second=0)\n",
    "\n",
    "# Filtra las filas correspondientes a los últimos dos meses\n",
    "df_recent_data = df[df['fechaHora'] >= fecha_start]\n",
    "df_recent_data.loc[:,'precio_spot'] = np.where(df_recent_data['precio_spot'] < 0, 0, df_recent_data['precio_spot'])\n",
    "\n",
    "\n"
   ]
  },
  {
   "cell_type": "code",
   "execution_count": 33,
   "id": "56f5c9c4",
   "metadata": {},
   "outputs": [
    {
     "name": "stdout",
     "output_type": "stream",
     "text": [
      "Tamaño del conjunto de entrenamiento: 1655\n",
      "Tamaño del conjunto de validacion: 168\n",
      "Tamaño del conjunto de prueba: 360\n"
     ]
    }
   ],
   "source": [
    "start_val = (last_day - pd.Timedelta(days= validation_days + test_days)).replace(hour=0, minute=0, second=0)\n",
    "\n",
    "start_test = (last_day - pd.Timedelta(days=test_days)).replace(hour=0, minute=0, second=0)\n",
    "# Suponiendo que df es tu DataFrame y 'fechaHora' está en formato datetime\n",
    "\n",
    "# Dividir el DataFrame en conjunto de entrenamiento y conjunto de prueba\n",
    "train_data = df_recent_data[df_recent_data['fechaHora'] < start_val]\n",
    "val_data = df_recent_data[(start_val <= df_recent_data['fechaHora']) & (df_recent_data['fechaHora'] < start_test)]\n",
    "test_data = df_recent_data[  start_test <= df_recent_data['fechaHora']]\n",
    "\n",
    "# Verificar los tamaños de los conjuntos de entrenamiento y prueba\n",
    "print(\"Tamaño del conjunto de entrenamiento:\", len(train_data))\n",
    "print(\"Tamaño del conjunto de validacion:\", len(val_data))\n",
    "\n",
    "print(\"Tamaño del conjunto de prueba:\", len(test_data))\n"
   ]
  },
  {
   "cell_type": "markdown",
   "id": "37464710",
   "metadata": {},
   "source": [
    "Visualizamos la serie temporal divido en train, validation y test"
   ]
  },
  {
   "cell_type": "code",
   "execution_count": 34,
   "id": "a6a92c86",
   "metadata": {},
   "outputs": [
    {
     "data": {
      "image/png": "[encoded data removed]",
      "text/plain": [
       "<Figure size 1000x600 with 1 Axes>"
      ]
     },
     "metadata": {},
     "output_type": "display_data"
    }
   ],
   "source": [
    "plt.figure(figsize=(10, 6))\n",
    "plt.plot(train_data['fechaHora'], train_data['precio_spot'], color='blue', label='Train')\n",
    "plt.plot(val_data['fechaHora'], val_data['precio_spot'], color='green', label='Validation')\n",
    "\n",
    "plt.plot(test_data['fechaHora'], test_data['precio_spot'], color='red', label='Test')\n",
    "\n",
    "plt.xlabel('Fecha y Hora')\n",
    "plt.ylabel('Precio Spot')\n",
    "plt.title('Precio Spot en función de Fecha y Hora')\n",
    "plt.legend()\n",
    "plt.grid(True)\n",
    "plt.show()"
   ]
  },
  {
   "cell_type": "code",
   "execution_count": 35,
   "id": "addff42d",
   "metadata": {},
   "outputs": [
    {
     "name": "stderr",
     "output_type": "stream",
     "text": [
      "C:\\Users\\nicov\\AppData\\Local\\Temp\\ipykernel_27948\\2604526388.py:1: SettingWithCopyWarning:\n",
      "\n",
      "\n",
      "A value is trying to be set on a copy of a slice from a DataFrame\n",
      "\n",
      "See the caveats in the documentation: https://pandas.pydata.org/pandas-docs/stable/user_guide/indexing.html#returning-a-view-versus-a-copy\n",
      "\n",
      "C:\\Users\\nicov\\AppData\\Local\\Temp\\ipykernel_27948\\2604526388.py:2: SettingWithCopyWarning:\n",
      "\n",
      "\n",
      "A value is trying to be set on a copy of a slice from a DataFrame\n",
      "\n",
      "See the caveats in the documentation: https://pandas.pydata.org/pandas-docs/stable/user_guide/indexing.html#returning-a-view-versus-a-copy\n",
      "\n",
      "C:\\Users\\nicov\\AppData\\Local\\Temp\\ipykernel_27948\\2604526388.py:3: SettingWithCopyWarning:\n",
      "\n",
      "\n",
      "A value is trying to be set on a copy of a slice from a DataFrame\n",
      "\n",
      "See the caveats in the documentation: https://pandas.pydata.org/pandas-docs/stable/user_guide/indexing.html#returning-a-view-versus-a-copy\n",
      "\n"
     ]
    }
   ],
   "source": [
    "train_data.drop(columns=['fechaHora'], inplace=True)\n",
    "val_data.drop(columns=['fechaHora'], inplace=True)\n",
    "test_data.drop(columns=['fechaHora'], inplace=True)\n",
    "\n",
    "\n",
    "data = df_recent_data.copy()\n",
    "# data = data.reset_index(drop=True)\n"
   ]
  },
  {
   "cell_type": "markdown",
   "id": "23132cd7",
   "metadata": {},
   "source": [
    "# DATA NORMALIZATION"
   ]
  },
  {
   "cell_type": "markdown",
   "id": "a036e2a5",
   "metadata": {},
   "source": [
    "## TRAIN"
   ]
  },
  {
   "cell_type": "code",
   "execution_count": 36,
   "id": "94b391a9",
   "metadata": {},
   "outputs": [
    {
     "name": "stderr",
     "output_type": "stream",
     "text": [
      "C:\\Users\\nicov\\AppData\\Local\\Temp\\ipykernel_27948\\667146575.py:4: SettingWithCopyWarning:\n",
      "\n",
      "\n",
      "A value is trying to be set on a copy of a slice from a DataFrame.\n",
      "Try using .loc[row_indexer,col_indexer] = value instead\n",
      "\n",
      "See the caveats in the documentation: https://pandas.pydata.org/pandas-docs/stable/user_guide/indexing.html#returning-a-view-versus-a-copy\n",
      "\n",
      "C:\\Users\\nicov\\AppData\\Local\\Temp\\ipykernel_27948\\667146575.py:7: SettingWithCopyWarning:\n",
      "\n",
      "\n",
      "A value is trying to be set on a copy of a slice from a DataFrame.\n",
      "Try using .loc[row_indexer,col_indexer] = value instead\n",
      "\n",
      "See the caveats in the documentation: https://pandas.pydata.org/pandas-docs/stable/user_guide/indexing.html#returning-a-view-versus-a-copy\n",
      "\n",
      "C:\\Users\\nicov\\AppData\\Local\\Temp\\ipykernel_27948\\667146575.py:10: SettingWithCopyWarning:\n",
      "\n",
      "\n",
      "A value is trying to be set on a copy of a slice from a DataFrame.\n",
      "Try using .loc[row_indexer,col_indexer] = value instead\n",
      "\n",
      "See the caveats in the documentation: https://pandas.pydata.org/pandas-docs/stable/user_guide/indexing.html#returning-a-view-versus-a-copy\n",
      "\n",
      "C:\\Users\\nicov\\AppData\\Local\\Temp\\ipykernel_27948\\667146575.py:13: SettingWithCopyWarning:\n",
      "\n",
      "\n",
      "A value is trying to be set on a copy of a slice from a DataFrame.\n",
      "Try using .loc[row_indexer,col_indexer] = value instead\n",
      "\n",
      "See the caveats in the documentation: https://pandas.pydata.org/pandas-docs/stable/user_guide/indexing.html#returning-a-view-versus-a-copy\n",
      "\n",
      "C:\\Users\\nicov\\AppData\\Local\\Temp\\ipykernel_27948\\667146575.py:16: SettingWithCopyWarning:\n",
      "\n",
      "\n",
      "A value is trying to be set on a copy of a slice from a DataFrame.\n",
      "Try using .loc[row_indexer,col_indexer] = value instead\n",
      "\n",
      "See the caveats in the documentation: https://pandas.pydata.org/pandas-docs/stable/user_guide/indexing.html#returning-a-view-versus-a-copy\n",
      "\n",
      "C:\\Users\\nicov\\AppData\\Local\\Temp\\ipykernel_27948\\667146575.py:19: SettingWithCopyWarning:\n",
      "\n",
      "\n",
      "A value is trying to be set on a copy of a slice from a DataFrame.\n",
      "Try using .loc[row_indexer,col_indexer] = value instead\n",
      "\n",
      "See the caveats in the documentation: https://pandas.pydata.org/pandas-docs/stable/user_guide/indexing.html#returning-a-view-versus-a-copy\n",
      "\n",
      "C:\\Users\\nicov\\AppData\\Local\\Temp\\ipykernel_27948\\667146575.py:22: SettingWithCopyWarning:\n",
      "\n",
      "\n",
      "A value is trying to be set on a copy of a slice from a DataFrame.\n",
      "Try using .loc[row_indexer,col_indexer] = value instead\n",
      "\n",
      "See the caveats in the documentation: https://pandas.pydata.org/pandas-docs/stable/user_guide/indexing.html#returning-a-view-versus-a-copy\n",
      "\n",
      "C:\\Users\\nicov\\AppData\\Local\\Temp\\ipykernel_27948\\667146575.py:25: SettingWithCopyWarning:\n",
      "\n",
      "\n",
      "A value is trying to be set on a copy of a slice from a DataFrame.\n",
      "Try using .loc[row_indexer,col_indexer] = value instead\n",
      "\n",
      "See the caveats in the documentation: https://pandas.pydata.org/pandas-docs/stable/user_guide/indexing.html#returning-a-view-versus-a-copy\n",
      "\n"
     ]
    }
   ],
   "source": [
    "# Preprocesamiento de datos\n",
    "# scaler_precio_spot = MinMaxScaler()\n",
    "scaler_precio_spot = StandardScaler()\n",
    "train_data['precio_spot'] = scaler_precio_spot.fit_transform(train_data[['precio_spot']])\n",
    "\n",
    "scaler_demanda = MinMaxScaler()\n",
    "train_data['demanda'] = scaler_demanda.fit_transform(train_data[['demanda']])\n",
    "\n",
    "scaler_co2 = MinMaxScaler()\n",
    "train_data['co2'] = scaler_co2.fit_transform(train_data[['co2']])\n",
    "\n",
    "scaler_precio_gas = MinMaxScaler()\n",
    "train_data['precio_gas'] = scaler_precio_gas.fit_transform(train_data[['precio_gas']])\n",
    "\n",
    "scaler_prod_eolica = MinMaxScaler()\n",
    "train_data['prod_eolica'] = scaler_prod_eolica.fit_transform(train_data[['prod_eolica']])\n",
    "\n",
    "scaler_prod_solar = MinMaxScaler()\n",
    "train_data['prod_solar'] = scaler_prod_solar.fit_transform(train_data[['prod_solar']])\n",
    "\n",
    "scaler_demanda_residual = MinMaxScaler()\n",
    "train_data['demanda_residual'] = scaler_demanda_residual.fit_transform(train_data[['demanda_residual']])\n",
    "\n",
    "scaler_rampa = MinMaxScaler()\n",
    "train_data['rampa'] = scaler_rampa.fit_transform(train_data[['rampa']])\n",
    "\n"
   ]
  },
  {
   "cell_type": "markdown",
   "id": "edfcfac5",
   "metadata": {},
   "source": [
    "## VAL"
   ]
  },
  {
   "cell_type": "code",
   "execution_count": 37,
   "id": "83648988",
   "metadata": {},
   "outputs": [
    {
     "name": "stderr",
     "output_type": "stream",
     "text": [
      "C:\\Users\\nicov\\AppData\\Local\\Temp\\ipykernel_27948\\2127852279.py:1: SettingWithCopyWarning:\n",
      "\n",
      "\n",
      "A value is trying to be set on a copy of a slice from a DataFrame.\n",
      "Try using .loc[row_indexer,col_indexer] = value instead\n",
      "\n",
      "See the caveats in the documentation: https://pandas.pydata.org/pandas-docs/stable/user_guide/indexing.html#returning-a-view-versus-a-copy\n",
      "\n",
      "C:\\Users\\nicov\\AppData\\Local\\Temp\\ipykernel_27948\\2127852279.py:3: SettingWithCopyWarning:\n",
      "\n",
      "\n",
      "A value is trying to be set on a copy of a slice from a DataFrame.\n",
      "Try using .loc[row_indexer,col_indexer] = value instead\n",
      "\n",
      "See the caveats in the documentation: https://pandas.pydata.org/pandas-docs/stable/user_guide/indexing.html#returning-a-view-versus-a-copy\n",
      "\n",
      "C:\\Users\\nicov\\AppData\\Local\\Temp\\ipykernel_27948\\2127852279.py:5: SettingWithCopyWarning:\n",
      "\n",
      "\n",
      "A value is trying to be set on a copy of a slice from a DataFrame.\n",
      "Try using .loc[row_indexer,col_indexer] = value instead\n",
      "\n",
      "See the caveats in the documentation: https://pandas.pydata.org/pandas-docs/stable/user_guide/indexing.html#returning-a-view-versus-a-copy\n",
      "\n",
      "C:\\Users\\nicov\\AppData\\Local\\Temp\\ipykernel_27948\\2127852279.py:7: SettingWithCopyWarning:\n",
      "\n",
      "\n",
      "A value is trying to be set on a copy of a slice from a DataFrame.\n",
      "Try using .loc[row_indexer,col_indexer] = value instead\n",
      "\n",
      "See the caveats in the documentation: https://pandas.pydata.org/pandas-docs/stable/user_guide/indexing.html#returning-a-view-versus-a-copy\n",
      "\n",
      "C:\\Users\\nicov\\AppData\\Local\\Temp\\ipykernel_27948\\2127852279.py:9: SettingWithCopyWarning:\n",
      "\n",
      "\n",
      "A value is trying to be set on a copy of a slice from a DataFrame.\n",
      "Try using .loc[row_indexer,col_indexer] = value instead\n",
      "\n",
      "See the caveats in the documentation: https://pandas.pydata.org/pandas-docs/stable/user_guide/indexing.html#returning-a-view-versus-a-copy\n",
      "\n",
      "C:\\Users\\nicov\\AppData\\Local\\Temp\\ipykernel_27948\\2127852279.py:11: SettingWithCopyWarning:\n",
      "\n",
      "\n",
      "A value is trying to be set on a copy of a slice from a DataFrame.\n",
      "Try using .loc[row_indexer,col_indexer] = value instead\n",
      "\n",
      "See the caveats in the documentation: https://pandas.pydata.org/pandas-docs/stable/user_guide/indexing.html#returning-a-view-versus-a-copy\n",
      "\n",
      "C:\\Users\\nicov\\AppData\\Local\\Temp\\ipykernel_27948\\2127852279.py:13: SettingWithCopyWarning:\n",
      "\n",
      "\n",
      "A value is trying to be set on a copy of a slice from a DataFrame.\n",
      "Try using .loc[row_indexer,col_indexer] = value instead\n",
      "\n",
      "See the caveats in the documentation: https://pandas.pydata.org/pandas-docs/stable/user_guide/indexing.html#returning-a-view-versus-a-copy\n",
      "\n",
      "C:\\Users\\nicov\\AppData\\Local\\Temp\\ipykernel_27948\\2127852279.py:15: SettingWithCopyWarning:\n",
      "\n",
      "\n",
      "A value is trying to be set on a copy of a slice from a DataFrame.\n",
      "Try using .loc[row_indexer,col_indexer] = value instead\n",
      "\n",
      "See the caveats in the documentation: https://pandas.pydata.org/pandas-docs/stable/user_guide/indexing.html#returning-a-view-versus-a-copy\n",
      "\n"
     ]
    }
   ],
   "source": [
    "\n",
    "val_data['precio_spot'] = scaler_precio_spot.transform(val_data[['precio_spot']])\n",
    "\n",
    "val_data['demanda'] = scaler_demanda.transform(val_data[['demanda']])\n",
    "\n",
    "val_data['co2'] = scaler_co2.transform(val_data[['co2']])\n",
    "\n",
    "val_data['precio_gas'] = scaler_precio_gas.transform(val_data[['precio_gas']])\n",
    "\n",
    "val_data['prod_eolica'] = scaler_prod_eolica.transform(val_data[['prod_eolica']])\n",
    "\n",
    "val_data['prod_solar'] = scaler_prod_solar.transform(val_data[['prod_solar']])\n",
    "\n",
    "val_data['demanda_residual'] = scaler_demanda_residual.transform(val_data[['demanda_residual']])\n",
    "\n",
    "val_data['rampa'] = scaler_rampa.transform(val_data[['rampa']])"
   ]
  },
  {
   "cell_type": "markdown",
   "id": "d84f9010",
   "metadata": {},
   "source": [
    "## TEST"
   ]
  },
  {
   "cell_type": "code",
   "execution_count": 38,
   "id": "174c9baf",
   "metadata": {},
   "outputs": [
    {
     "name": "stderr",
     "output_type": "stream",
     "text": [
      "C:\\Users\\nicov\\AppData\\Local\\Temp\\ipykernel_27948\\616695112.py:1: SettingWithCopyWarning:\n",
      "\n",
      "\n",
      "A value is trying to be set on a copy of a slice from a DataFrame.\n",
      "Try using .loc[row_indexer,col_indexer] = value instead\n",
      "\n",
      "See the caveats in the documentation: https://pandas.pydata.org/pandas-docs/stable/user_guide/indexing.html#returning-a-view-versus-a-copy\n",
      "\n",
      "C:\\Users\\nicov\\AppData\\Local\\Temp\\ipykernel_27948\\616695112.py:3: SettingWithCopyWarning:\n",
      "\n",
      "\n",
      "A value is trying to be set on a copy of a slice from a DataFrame.\n",
      "Try using .loc[row_indexer,col_indexer] = value instead\n",
      "\n",
      "See the caveats in the documentation: https://pandas.pydata.org/pandas-docs/stable/user_guide/indexing.html#returning-a-view-versus-a-copy\n",
      "\n",
      "C:\\Users\\nicov\\AppData\\Local\\Temp\\ipykernel_27948\\616695112.py:5: SettingWithCopyWarning:\n",
      "\n",
      "\n",
      "A value is trying to be set on a copy of a slice from a DataFrame.\n",
      "Try using .loc[row_indexer,col_indexer] = value instead\n",
      "\n",
      "See the caveats in the documentation: https://pandas.pydata.org/pandas-docs/stable/user_guide/indexing.html#returning-a-view-versus-a-copy\n",
      "\n",
      "C:\\Users\\nicov\\AppData\\Local\\Temp\\ipykernel_27948\\616695112.py:7: SettingWithCopyWarning:\n",
      "\n",
      "\n",
      "A value is trying to be set on a copy of a slice from a DataFrame.\n",
      "Try using .loc[row_indexer,col_indexer] = value instead\n",
      "\n",
      "See the caveats in the documentation: https://pandas.pydata.org/pandas-docs/stable/user_guide/indexing.html#returning-a-view-versus-a-copy\n",
      "\n",
      "C:\\Users\\nicov\\AppData\\Local\\Temp\\ipykernel_27948\\616695112.py:9: SettingWithCopyWarning:\n",
      "\n",
      "\n",
      "A value is trying to be set on a copy of a slice from a DataFrame.\n",
      "Try using .loc[row_indexer,col_indexer] = value instead\n",
      "\n",
      "See the caveats in the documentation: https://pandas.pydata.org/pandas-docs/stable/user_guide/indexing.html#returning-a-view-versus-a-copy\n",
      "\n",
      "C:\\Users\\nicov\\AppData\\Local\\Temp\\ipykernel_27948\\616695112.py:11: SettingWithCopyWarning:\n",
      "\n",
      "\n",
      "A value is trying to be set on a copy of a slice from a DataFrame.\n",
      "Try using .loc[row_indexer,col_indexer] = value instead\n",
      "\n",
      "See the caveats in the documentation: https://pandas.pydata.org/pandas-docs/stable/user_guide/indexing.html#returning-a-view-versus-a-copy\n",
      "\n",
      "C:\\Users\\nicov\\AppData\\Local\\Temp\\ipykernel_27948\\616695112.py:13: SettingWithCopyWarning:\n",
      "\n",
      "\n",
      "A value is trying to be set on a copy of a slice from a DataFrame.\n",
      "Try using .loc[row_indexer,col_indexer] = value instead\n",
      "\n",
      "See the caveats in the documentation: https://pandas.pydata.org/pandas-docs/stable/user_guide/indexing.html#returning-a-view-versus-a-copy\n",
      "\n",
      "C:\\Users\\nicov\\AppData\\Local\\Temp\\ipykernel_27948\\616695112.py:15: SettingWithCopyWarning:\n",
      "\n",
      "\n",
      "A value is trying to be set on a copy of a slice from a DataFrame.\n",
      "Try using .loc[row_indexer,col_indexer] = value instead\n",
      "\n",
      "See the caveats in the documentation: https://pandas.pydata.org/pandas-docs/stable/user_guide/indexing.html#returning-a-view-versus-a-copy\n",
      "\n"
     ]
    }
   ],
   "source": [
    "\n",
    "test_data['precio_spot'] = scaler_precio_spot.transform(test_data[['precio_spot']])\n",
    "\n",
    "test_data['demanda'] = scaler_demanda.transform(test_data[['demanda']])\n",
    "\n",
    "test_data['co2'] = scaler_co2.transform(test_data[['co2']])\n",
    "\n",
    "test_data['precio_gas'] = scaler_precio_gas.transform(test_data[['precio_gas']])\n",
    "\n",
    "test_data['prod_eolica'] = scaler_prod_eolica.transform(test_data[['prod_eolica']])\n",
    "\n",
    "test_data['prod_solar'] = scaler_prod_solar.transform(test_data[['prod_solar']])\n",
    "\n",
    "test_data['demanda_residual'] = scaler_demanda_residual.transform(test_data[['demanda_residual']])\n",
    "\n",
    "test_data['rampa'] = scaler_rampa.transform(test_data[['rampa']])\n"
   ]
  },
  {
   "cell_type": "code",
   "execution_count": 39,
   "id": "6b724405",
   "metadata": {},
   "outputs": [
    {
     "data": {
      "text/html": [
       "<div>\n",
       "<style scoped>\n",
       "    .dataframe tbody tr th:only-of-type {\n",
       "        vertical-align: middle;\n",
       "    }\n",
       "\n",
       "    .dataframe tbody tr th {\n",
       "        vertical-align: top;\n",
       "    }\n",
       "\n",
       "    .dataframe thead th {\n",
       "        text-align: right;\n",
       "    }\n",
       "</style>\n",
       "<table border=\"1\" class=\"dataframe\">\n",
       "  <thead>\n",
       "    <tr style=\"text-align: right;\">\n",
       "      <th></th>\n",
       "      <th>precio_spot</th>\n",
       "      <th>demanda</th>\n",
       "      <th>co2</th>\n",
       "      <th>precio_gas</th>\n",
       "      <th>prod_eolica</th>\n",
       "      <th>prod_solar</th>\n",
       "      <th>demanda_residual</th>\n",
       "      <th>rampa</th>\n",
       "    </tr>\n",
       "  </thead>\n",
       "  <tbody>\n",
       "    <tr>\n",
       "      <th>44351</th>\n",
       "      <td>0.770819</td>\n",
       "      <td>0.733108</td>\n",
       "      <td>0.785203</td>\n",
       "      <td>0.835796</td>\n",
       "      <td>0.391284</td>\n",
       "      <td>0.000335</td>\n",
       "      <td>0.576000</td>\n",
       "      <td>0.545909</td>\n",
       "    </tr>\n",
       "    <tr>\n",
       "      <th>44352</th>\n",
       "      <td>0.707116</td>\n",
       "      <td>0.687758</td>\n",
       "      <td>0.785203</td>\n",
       "      <td>0.835796</td>\n",
       "      <td>0.379745</td>\n",
       "      <td>0.000340</td>\n",
       "      <td>0.535158</td>\n",
       "      <td>0.589663</td>\n",
       "    </tr>\n",
       "    <tr>\n",
       "      <th>44353</th>\n",
       "      <td>0.691948</td>\n",
       "      <td>0.657042</td>\n",
       "      <td>0.785203</td>\n",
       "      <td>0.835796</td>\n",
       "      <td>0.363580</td>\n",
       "      <td>0.000349</td>\n",
       "      <td>0.516979</td>\n",
       "      <td>0.540165</td>\n",
       "    </tr>\n",
       "    <tr>\n",
       "      <th>44354</th>\n",
       "      <td>0.733507</td>\n",
       "      <td>0.643636</td>\n",
       "      <td>0.785203</td>\n",
       "      <td>0.835796</td>\n",
       "      <td>0.342216</td>\n",
       "      <td>0.000335</td>\n",
       "      <td>0.505366</td>\n",
       "      <td>0.525824</td>\n",
       "    </tr>\n",
       "    <tr>\n",
       "      <th>44355</th>\n",
       "      <td>0.691948</td>\n",
       "      <td>0.643850</td>\n",
       "      <td>0.785203</td>\n",
       "      <td>0.835796</td>\n",
       "      <td>0.323751</td>\n",
       "      <td>0.000368</td>\n",
       "      <td>0.507994</td>\n",
       "      <td>0.494721</td>\n",
       "    </tr>\n",
       "    <tr>\n",
       "      <th>...</th>\n",
       "      <td>...</td>\n",
       "      <td>...</td>\n",
       "      <td>...</td>\n",
       "      <td>...</td>\n",
       "      <td>...</td>\n",
       "      <td>...</td>\n",
       "      <td>...</td>\n",
       "      <td>...</td>\n",
       "    </tr>\n",
       "    <tr>\n",
       "      <th>46001</th>\n",
       "      <td>-1.082651</td>\n",
       "      <td>0.663200</td>\n",
       "      <td>0.721559</td>\n",
       "      <td>0.840722</td>\n",
       "      <td>0.543386</td>\n",
       "      <td>0.195930</td>\n",
       "      <td>0.365279</td>\n",
       "      <td>0.265628</td>\n",
       "    </tr>\n",
       "    <tr>\n",
       "      <th>46002</th>\n",
       "      <td>-1.031385</td>\n",
       "      <td>0.733499</td>\n",
       "      <td>0.721559</td>\n",
       "      <td>0.840722</td>\n",
       "      <td>0.623162</td>\n",
       "      <td>0.027047</td>\n",
       "      <td>0.456834</td>\n",
       "      <td>0.300500</td>\n",
       "    </tr>\n",
       "    <tr>\n",
       "      <th>46003</th>\n",
       "      <td>-0.985579</td>\n",
       "      <td>0.789406</td>\n",
       "      <td>0.721559</td>\n",
       "      <td>0.840722</td>\n",
       "      <td>0.690979</td>\n",
       "      <td>0.008862</td>\n",
       "      <td>0.496384</td>\n",
       "      <td>0.414082</td>\n",
       "    </tr>\n",
       "    <tr>\n",
       "      <th>46004</th>\n",
       "      <td>-0.985579</td>\n",
       "      <td>0.753214</td>\n",
       "      <td>0.721559</td>\n",
       "      <td>0.840722</td>\n",
       "      <td>0.676902</td>\n",
       "      <td>0.008560</td>\n",
       "      <td>0.411268</td>\n",
       "      <td>0.686359</td>\n",
       "    </tr>\n",
       "    <tr>\n",
       "      <th>46005</th>\n",
       "      <td>-1.033205</td>\n",
       "      <td>0.683764</td>\n",
       "      <td>0.721559</td>\n",
       "      <td>0.840722</td>\n",
       "      <td>0.575346</td>\n",
       "      <td>0.007499</td>\n",
       "      <td>0.355724</td>\n",
       "      <td>0.621772</td>\n",
       "    </tr>\n",
       "  </tbody>\n",
       "</table>\n",
       "<p>1655 rows × 8 columns</p>\n",
       "</div>"
      ],
      "text/plain": [
       "       precio_spot   demanda       co2  precio_gas  prod_eolica  prod_solar  \\\n",
       "44351     0.770819  0.733108  0.785203    0.835796     0.391284    0.000335   \n",
       "44352     0.707116  0.687758  0.785203    0.835796     0.379745    0.000340   \n",
       "44353     0.691948  0.657042  0.785203    0.835796     0.363580    0.000349   \n",
       "44354     0.733507  0.643636  0.785203    0.835796     0.342216    0.000335   \n",
       "44355     0.691948  0.643850  0.785203    0.835796     0.323751    0.000368   \n",
       "...            ...       ...       ...         ...          ...         ...   \n",
       "46001    -1.082651  0.663200  0.721559    0.840722     0.543386    0.195930   \n",
       "46002    -1.031385  0.733499  0.721559    0.840722     0.623162    0.027047   \n",
       "46003    -0.985579  0.789406  0.721559    0.840722     0.690979    0.008862   \n",
       "46004    -0.985579  0.753214  0.721559    0.840722     0.676902    0.008560   \n",
       "46005    -1.033205  0.683764  0.721559    0.840722     0.575346    0.007499   \n",
       "\n",
       "       demanda_residual     rampa  \n",
       "44351          0.576000  0.545909  \n",
       "44352          0.535158  0.589663  \n",
       "44353          0.516979  0.540165  \n",
       "44354          0.505366  0.525824  \n",
       "44355          0.507994  0.494721  \n",
       "...                 ...       ...  \n",
       "46001          0.365279  0.265628  \n",
       "46002          0.456834  0.300500  \n",
       "46003          0.496384  0.414082  \n",
       "46004          0.411268  0.686359  \n",
       "46005          0.355724  0.621772  \n",
       "\n",
       "[1655 rows x 8 columns]"
      ]
     },
     "execution_count": 39,
     "metadata": {},
     "output_type": "execute_result"
    }
   ],
   "source": [
    "train_data"
   ]
  },
  {
   "cell_type": "markdown",
   "id": "747bc475",
   "metadata": {},
   "source": [
    "# CREATE SEQUENCES"
   ]
  },
  {
   "cell_type": "markdown",
   "id": "963f2d9d",
   "metadata": {},
   "source": [
    "Existen multiples formas de crear secuencias dentro de nuestra serie temporal para el entrenamiento. La mas comun suele ser coger una secuencia de longitud 'n' para predecir el valor 'n+1', posteriormennte desplazamos la serie en 1 unidad y volvemos a crear una secuencia de longitud 'n' en la que su ultimo valor sera 'n+1' y se predecira 'n+2'.\n",
    "\n",
    "Esta seria una implementacion correcta, pero no la mas adecuada para nuestro problema. Nosotros, en primer lugar, debemos predecir los proximos 24 valores, no uno unico. Ademas como hemos visto nuestra serie temporal tiene una distribucion concreta, con 2 tramos horarios con valores mas elevados (picos), y con la implementacion anterior esta componente temporal se perderia. Por todo ello nuestra implementacion es la siguiente:\n",
    "- Tomamos los primeros 24 valores, comenzando a las 00:00 de un dia 't'. (x)\n",
    "- Con estos valores se predeciran los 24 proximos. (y)\n",
    "- El desplazamiento sera de 24, de esta forma la siguiente secuencia en vez de comenzar a la 01:00 de 't' comenzara a las 00:00 de 't+1'.\n",
    "\n",
    "El hecho de tomar los primeros 24 valores es para predecir con los datos del dia anterior (empiricamente es lo que mejores resultados da), pero esto se puede modificar mediante el parametro 'seq_lenght' pudiendo predecir en base a los 2 ultimos dias (seq_length=48) por ejemplo."
   ]
  },
  {
   "cell_type": "code",
   "execution_count": 40,
   "id": "33d7deb8",
   "metadata": {},
   "outputs": [],
   "source": [
    "X_train, y_train = create_sequences(train_data, seq_length, future_steps)\n",
    "X_val, y_val = create_sequences(val_data, seq_length, future_steps)\n",
    "X_test, y_test = create_sequences(test_data, seq_length, future_steps)\n",
    "\n",
    "y_val = scaler_precio_spot.inverse_transform(y_val)\n",
    "y_test = scaler_precio_spot.inverse_transform(y_test)\n",
    "\n"
   ]
  },
  {
   "cell_type": "markdown",
   "id": "0e729b3d",
   "metadata": {},
   "source": [
    "Vemos como se han creado 67 secuencias de entrenamiento de longitud 24 (1 dia) con sus 8 variables exogenas"
   ]
  },
  {
   "cell_type": "code",
   "execution_count": 41,
   "id": "89a59cb4",
   "metadata": {},
   "outputs": [
    {
     "data": {
      "text/plain": [
       "(67, 24, 8)"
      ]
     },
     "execution_count": 41,
     "metadata": {},
     "output_type": "execute_result"
    }
   ],
   "source": [
    "X_train.shape"
   ]
  },
  {
   "cell_type": "markdown",
   "id": "cd196d2f",
   "metadata": {},
   "source": [
    "# MODELLING"
   ]
  },
  {
   "cell_type": "markdown",
   "id": "0f38e838",
   "metadata": {},
   "source": [
    "## BASIC"
   ]
  },
  {
   "cell_type": "code",
   "execution_count": 42,
   "id": "4cfcbab7",
   "metadata": {},
   "outputs": [
    {
     "name": "stdout",
     "output_type": "stream",
     "text": [
      "Epoch 1/50\n",
      "5/5 [==============================] - 1s 47ms/step - loss: 497.7414 - val_loss: 2408832.0000\n",
      "Epoch 2/50\n",
      "5/5 [==============================] - 0s 9ms/step - loss: 387.2576 - val_loss: 2412978.7500\n",
      "Epoch 3/50\n",
      "5/5 [==============================] - 0s 9ms/step - loss: 343.2086 - val_loss: 2405394.5000\n",
      "Epoch 4/50\n",
      "5/5 [==============================] - 0s 8ms/step - loss: 299.6246 - val_loss: 2405725.2500\n",
      "Epoch 5/50\n",
      "5/5 [==============================] - 0s 8ms/step - loss: 263.8161 - val_loss: 2414524.5000\n",
      "Epoch 6/50\n",
      "5/5 [==============================] - 0s 8ms/step - loss: 228.3219 - val_loss: 2424907.5000\n",
      "Epoch 7/50\n",
      "5/5 [==============================] - 0s 8ms/step - loss: 220.7085 - val_loss: 2423641.2500\n",
      "Epoch 8/50\n",
      "5/5 [==============================] - 0s 8ms/step - loss: 201.8400 - val_loss: 2429687.2500\n",
      "Epoch 9/50\n",
      "5/5 [==============================] - 0s 10ms/step - loss: 188.5379 - val_loss: 2433796.5000\n",
      "Epoch 10/50\n",
      "5/5 [==============================] - 0s 8ms/step - loss: 174.1506 - val_loss: 2439798.5000\n",
      "Epoch 11/50\n",
      "5/5 [==============================] - 0s 8ms/step - loss: 174.9392 - val_loss: 2439066.7500\n",
      "Epoch 12/50\n",
      "5/5 [==============================] - 0s 8ms/step - loss: 156.9660 - val_loss: 2444920.0000\n",
      "Epoch 13/50\n",
      "5/5 [==============================] - 0s 8ms/step - loss: 169.1840 - val_loss: 2439990.7500\n",
      "Epoch 14/50\n",
      "5/5 [==============================] - 0s 9ms/step - loss: 165.7066 - val_loss: 2441628.7500\n",
      "Epoch 15/50\n",
      "5/5 [==============================] - 0s 8ms/step - loss: 159.2973 - val_loss: 2437870.7500\n",
      "Epoch 16/50\n",
      "5/5 [==============================] - 0s 8ms/step - loss: 157.1798 - val_loss: 2440814.7500\n",
      "Epoch 17/50\n",
      "5/5 [==============================] - 0s 9ms/step - loss: 147.1860 - val_loss: 2438562.7500\n",
      "Epoch 18/50\n",
      "5/5 [==============================] - 0s 9ms/step - loss: 148.7071 - val_loss: 2446215.5000\n",
      "Epoch 19/50\n",
      "5/5 [==============================] - 0s 8ms/step - loss: 151.5845 - val_loss: 2445393.2500\n",
      "Epoch 20/50\n",
      "5/5 [==============================] - 0s 8ms/step - loss: 152.0902 - val_loss: 2445261.5000\n",
      "Epoch 21/50\n",
      "5/5 [==============================] - 0s 8ms/step - loss: 146.9224 - val_loss: 2446033.5000\n",
      "Epoch 22/50\n",
      "5/5 [==============================] - 0s 8ms/step - loss: 146.0096 - val_loss: 2444103.2500\n",
      "Epoch 23/50\n",
      "5/5 [==============================] - 0s 8ms/step - loss: 143.6180 - val_loss: 2447052.7500\n",
      "Epoch 24/50\n",
      "5/5 [==============================] - 0s 17ms/step - loss: 143.2921 - val_loss: 2449325.2500\n",
      "Epoch 25/50\n",
      "5/5 [==============================] - 0s 11ms/step - loss: 136.4279 - val_loss: 2451924.0000\n",
      "Epoch 26/50\n",
      "5/5 [==============================] - 0s 10ms/step - loss: 137.5607 - val_loss: 2455821.5000\n",
      "Epoch 27/50\n",
      "5/5 [==============================] - 0s 9ms/step - loss: 136.7305 - val_loss: 2450829.2500\n",
      "Epoch 28/50\n",
      "5/5 [==============================] - 0s 8ms/step - loss: 138.4690 - val_loss: 2448753.5000\n",
      "Epoch 29/50\n",
      "5/5 [==============================] - 0s 9ms/step - loss: 126.8341 - val_loss: 2445144.7500\n",
      "Epoch 30/50\n",
      "5/5 [==============================] - 0s 9ms/step - loss: 131.3450 - val_loss: 2450049.5000\n",
      "Epoch 31/50\n",
      "5/5 [==============================] - 0s 10ms/step - loss: 129.6407 - val_loss: 2455710.0000\n",
      "Epoch 32/50\n",
      "5/5 [==============================] - 0s 9ms/step - loss: 135.6286 - val_loss: 2449406.7500\n",
      "Epoch 33/50\n",
      "5/5 [==============================] - 0s 8ms/step - loss: 123.8197 - val_loss: 2454485.2500\n",
      "Epoch 34/50\n",
      "5/5 [==============================] - 0s 9ms/step - loss: 130.8588 - val_loss: 2450481.5000\n",
      "Epoch 35/50\n",
      "5/5 [==============================] - 0s 8ms/step - loss: 125.8229 - val_loss: 2453491.5000\n",
      "Epoch 36/50\n",
      "5/5 [==============================] - 0s 8ms/step - loss: 128.2104 - val_loss: 2449519.5000\n",
      "Epoch 37/50\n",
      "5/5 [==============================] - 0s 8ms/step - loss: 127.2562 - val_loss: 2449220.0000\n",
      "Epoch 38/50\n",
      "5/5 [==============================] - 0s 9ms/step - loss: 124.5383 - val_loss: 2447867.5000\n",
      "Epoch 39/50\n",
      "5/5 [==============================] - 0s 8ms/step - loss: 127.2142 - val_loss: 2452507.5000\n",
      "Epoch 40/50\n",
      "5/5 [==============================] - 0s 8ms/step - loss: 121.9466 - val_loss: 2447061.2500\n",
      "Epoch 41/50\n",
      "5/5 [==============================] - 0s 8ms/step - loss: 118.9055 - val_loss: 2448358.0000\n",
      "Epoch 42/50\n",
      "5/5 [==============================] - 0s 8ms/step - loss: 116.9326 - val_loss: 2451305.5000\n",
      "Epoch 43/50\n",
      "5/5 [==============================] - 0s 8ms/step - loss: 121.5966 - val_loss: 2451640.5000\n",
      "Epoch 44/50\n",
      "5/5 [==============================] - 0s 9ms/step - loss: 115.0092 - val_loss: 2449402.2500\n",
      "Epoch 45/50\n",
      "5/5 [==============================] - 0s 10ms/step - loss: 122.0963 - val_loss: 2450394.0000\n",
      "Epoch 46/50\n",
      "5/5 [==============================] - 0s 10ms/step - loss: 120.6864 - val_loss: 2447551.5000\n",
      "Epoch 47/50\n",
      "5/5 [==============================] - 0s 10ms/step - loss: 116.2511 - val_loss: 2449721.2500\n",
      "Epoch 48/50\n",
      "5/5 [==============================] - 0s 9ms/step - loss: 116.7400 - val_loss: 2448606.5000\n",
      "Epoch 49/50\n",
      "5/5 [==============================] - 0s 9ms/step - loss: 116.1669 - val_loss: 2448002.7500\n",
      "Epoch 50/50\n",
      "5/5 [==============================] - 0s 9ms/step - loss: 117.8637 - val_loss: 2448362.7500\n"
     ]
    }
   ],
   "source": [
    "cnn_basic = Sequential()\n",
    "cnn_basic.add(Conv1D(filters=16, kernel_size=12, activation='elu', input_shape=(X_train.shape[1], X_train.shape[2])))\n",
    "cnn_basic.add(MaxPooling1D(pool_size=2))\n",
    "cnn_basic.add(Flatten())\n",
    "cnn_basic.add(Dense(24))  # Capa de salida con 24 neuronas para las 24 horas del día\n",
    "cnn_basic.compile(optimizer='adam', loss=custom_loss)\n",
    "history =cnn_basic.fit(X_train, y_train, epochs=50, batch_size=16, validation_data=(X_test, y_test), verbose = 1)"
   ]
  },
  {
   "cell_type": "code",
   "execution_count": 43,
   "id": "96765eca",
   "metadata": {},
   "outputs": [
    {
     "name": "stdout",
     "output_type": "stream",
     "text": [
      "WARNING:tensorflow:5 out of the last 6 calls to <function Model.make_predict_function.<locals>.predict_function at 0x00000219B7A86550> triggered tf.function retracing. Tracing is expensive and the excessive number of tracings could be due to (1) creating @tf.function repeatedly in a loop, (2) passing tensors with different shapes, (3) passing Python objects instead of tensors. For (1), please define your @tf.function outside of the loop. For (2), @tf.function has reduce_retracing=True option that can avoid unnecessary retracing. For (3), please refer to https://www.tensorflow.org/guide/function#controlling_retracing and https://www.tensorflow.org/api_docs/python/tf/function for  more details.\n",
      "Mean Squared Error (MSE): 111.54049843407465\n",
      "Mean Absolute Error (MAE): 6.059557480799654\n",
      "Valor de custom loss: 359329.3680198139\n"
     ]
    },
    {
     "data": {
      "image/png": "[encoded data removed]",
      "text/plain": [
       "<Figure size 1000x600 with 1 Axes>"
      ]
     },
     "metadata": {},
     "output_type": "display_data"
    }
   ],
   "source": [
    "y_pred_basic = cnn_basic.predict(X_val, verbose=0)\n",
    "\n",
    "y_pred_basic = scaler_precio_spot.inverse_transform(y_pred_basic)\n",
    "y_pred_basic = np.where(y_pred_basic < 0, 0, y_pred_basic)\n",
    "\n",
    "mse = mean_squared_error(y_val, y_pred_basic)\n",
    "print('Mean Squared Error (MSE):', mse)\n",
    "\n",
    "# Calcular el Error Absoluto Medio (MAE)\n",
    "mae = mean_absolute_error(y_val, y_pred_basic)\n",
    "print('Mean Absolute Error (MAE):', mae)\n",
    "\n",
    "metric_value = custom_loss(y_val, y_pred_basic)\n",
    "print(\"Valor de custom loss:\", metric_value.numpy())\n",
    "\n",
    "# Plot de las predicciones vs. los valores reales\n",
    "plt.figure(figsize=(10, 6))\n",
    "plt.plot(y_val.flatten(), label='Valores reales')\n",
    "plt.plot(y_pred_basic.flatten(), label='Predicciones')\n",
    "# plt.plot(np.array(df_last2['precio_spot']), label='ts')\n",
    "plt.title('Predicciones vs. Valores Reales')\n",
    "plt.xlabel('Índice')\n",
    "plt.ylabel('Valor')\n",
    "plt.legend()\n",
    "plt.show()"
   ]
  },
  {
   "cell_type": "markdown",
   "id": "6f480c62",
   "metadata": {},
   "source": [
    "En este primer modelo basico obtenemos unos resultados decentes pero muy mejorables, no se ajusta muy bien a los picos."
   ]
  },
  {
   "cell_type": "markdown",
   "id": "8f09cdb9",
   "metadata": {},
   "source": [
    "## MULTILAYER"
   ]
  },
  {
   "cell_type": "markdown",
   "id": "6b5180c5",
   "metadata": {},
   "source": [
    "Probamos ahora con modelos mas profundos. Computacionalmente seran mas costosos pero pueden captar patrones mas complejos."
   ]
  },
  {
   "cell_type": "code",
   "execution_count": 61,
   "id": "ad710ef7",
   "metadata": {},
   "outputs": [
    {
     "name": "stdout",
     "output_type": "stream",
     "text": [
      "Epoch 1/50\n",
      "3/3 [==============================] - 2s 120ms/step - loss: 979.2252 - val_loss: 2445577.5000\n",
      "Epoch 2/50\n",
      "3/3 [==============================] - 0s 17ms/step - loss: 815.4230 - val_loss: 2414598.0000\n",
      "Epoch 3/50\n",
      "3/3 [==============================] - 0s 16ms/step - loss: 747.5590 - val_loss: 2388516.5000\n",
      "Epoch 4/50\n",
      "3/3 [==============================] - 0s 17ms/step - loss: 694.6783 - val_loss: 2395887.2500\n",
      "Epoch 5/50\n",
      "3/3 [==============================] - 0s 17ms/step - loss: 611.8344 - val_loss: 2425214.7500\n",
      "Epoch 6/50\n",
      "3/3 [==============================] - 0s 18ms/step - loss: 547.7315 - val_loss: 2448673.2500\n",
      "Epoch 7/50\n",
      "3/3 [==============================] - 0s 17ms/step - loss: 503.6872 - val_loss: 2455668.0000\n",
      "Epoch 8/50\n",
      "3/3 [==============================] - 0s 17ms/step - loss: 470.9726 - val_loss: 2459302.7500\n",
      "Epoch 9/50\n",
      "3/3 [==============================] - 0s 16ms/step - loss: 456.8409 - val_loss: 2451164.2500\n",
      "Epoch 10/50\n",
      "3/3 [==============================] - 0s 17ms/step - loss: 428.1119 - val_loss: 2438834.5000\n",
      "Epoch 11/50\n",
      "3/3 [==============================] - 0s 17ms/step - loss: 388.3996 - val_loss: 2435863.7500\n",
      "Epoch 12/50\n",
      "3/3 [==============================] - 0s 17ms/step - loss: 380.7641 - val_loss: 2440830.5000\n",
      "Epoch 13/50\n",
      "3/3 [==============================] - 0s 17ms/step - loss: 356.9033 - val_loss: 2446257.2500\n",
      "Epoch 14/50\n",
      "3/3 [==============================] - 0s 17ms/step - loss: 332.7172 - val_loss: 2445881.2500\n",
      "Epoch 15/50\n",
      "3/3 [==============================] - 0s 16ms/step - loss: 325.9974 - val_loss: 2447124.5000\n",
      "Epoch 16/50\n",
      "3/3 [==============================] - 0s 17ms/step - loss: 306.9936 - val_loss: 2456995.5000\n",
      "Epoch 17/50\n",
      "3/3 [==============================] - 0s 17ms/step - loss: 310.9124 - val_loss: 2456193.2500\n",
      "Epoch 18/50\n",
      "3/3 [==============================] - 0s 17ms/step - loss: 288.1876 - val_loss: 2462413.5000\n",
      "Epoch 19/50\n",
      "3/3 [==============================] - 0s 17ms/step - loss: 288.4805 - val_loss: 2461949.2500\n",
      "Epoch 20/50\n",
      "3/3 [==============================] - 0s 17ms/step - loss: 278.9324 - val_loss: 2457613.5000\n",
      "Epoch 21/50\n",
      "3/3 [==============================] - 0s 17ms/step - loss: 258.4254 - val_loss: 2461033.7500\n",
      "Epoch 22/50\n",
      "3/3 [==============================] - 0s 17ms/step - loss: 266.6135 - val_loss: 2444842.7500\n",
      "Epoch 23/50\n",
      "3/3 [==============================] - 0s 17ms/step - loss: 264.2592 - val_loss: 2466382.7500\n",
      "Epoch 24/50\n",
      "3/3 [==============================] - 0s 17ms/step - loss: 256.3532 - val_loss: 2451346.0000\n",
      "Epoch 25/50\n",
      "3/3 [==============================] - 0s 18ms/step - loss: 243.9737 - val_loss: 2469268.0000\n",
      "Epoch 26/50\n",
      "3/3 [==============================] - 0s 19ms/step - loss: 231.7705 - val_loss: 2451683.2500\n",
      "Epoch 27/50\n",
      "3/3 [==============================] - 0s 23ms/step - loss: 239.1747 - val_loss: 2471349.2500\n",
      "Epoch 28/50\n",
      "3/3 [==============================] - 0s 19ms/step - loss: 233.8224 - val_loss: 2462587.5000\n",
      "Epoch 29/50\n",
      "3/3 [==============================] - 0s 18ms/step - loss: 235.5367 - val_loss: 2473080.5000\n",
      "Epoch 30/50\n",
      "3/3 [==============================] - 0s 17ms/step - loss: 230.5814 - val_loss: 2461069.2500\n",
      "Epoch 31/50\n",
      "3/3 [==============================] - 0s 17ms/step - loss: 225.0986 - val_loss: 2471863.7500\n",
      "Epoch 32/50\n",
      "3/3 [==============================] - 0s 17ms/step - loss: 216.6404 - val_loss: 2465749.2500\n",
      "Epoch 33/50\n",
      "3/3 [==============================] - 0s 17ms/step - loss: 210.0891 - val_loss: 2469173.2500\n",
      "Epoch 34/50\n",
      "3/3 [==============================] - 0s 17ms/step - loss: 187.9218 - val_loss: 2478958.7500\n",
      "Epoch 35/50\n",
      "3/3 [==============================] - 0s 16ms/step - loss: 208.1426 - val_loss: 2472316.7500\n",
      "Epoch 36/50\n",
      "3/3 [==============================] - 0s 36ms/step - loss: 202.0604 - val_loss: 2481537.2500\n",
      "Epoch 37/50\n",
      "3/3 [==============================] - 0s 31ms/step - loss: 221.3836 - val_loss: 2444730.0000\n",
      "Epoch 38/50\n",
      "3/3 [==============================] - 0s 21ms/step - loss: 249.7445 - val_loss: 2498212.2500\n",
      "Epoch 39/50\n",
      "3/3 [==============================] - 0s 24ms/step - loss: 205.0626 - val_loss: 2471069.2500\n",
      "Epoch 40/50\n",
      "3/3 [==============================] - 0s 17ms/step - loss: 212.3025 - val_loss: 2482949.2500\n",
      "Epoch 41/50\n",
      "3/3 [==============================] - 0s 17ms/step - loss: 200.8375 - val_loss: 2489573.2500\n",
      "Epoch 42/50\n",
      "3/3 [==============================] - 0s 17ms/step - loss: 201.5867 - val_loss: 2473072.0000\n",
      "Epoch 43/50\n",
      "3/3 [==============================] - 0s 17ms/step - loss: 196.6651 - val_loss: 2500346.7500\n",
      "Epoch 44/50\n",
      "3/3 [==============================] - 0s 17ms/step - loss: 201.4708 - val_loss: 2478665.2500\n",
      "Epoch 45/50\n",
      "3/3 [==============================] - 0s 17ms/step - loss: 200.2882 - val_loss: 2491706.2500\n",
      "Epoch 46/50\n",
      "3/3 [==============================] - 0s 17ms/step - loss: 191.7969 - val_loss: 2500788.2500\n",
      "Epoch 47/50\n",
      "3/3 [==============================] - 0s 18ms/step - loss: 195.5653 - val_loss: 2489454.0000\n",
      "Epoch 48/50\n",
      "3/3 [==============================] - 0s 18ms/step - loss: 192.0303 - val_loss: 2502821.2500\n",
      "Epoch 49/50\n",
      "3/3 [==============================] - 0s 19ms/step - loss: 188.1217 - val_loss: 2492821.7500\n",
      "Epoch 50/50\n",
      "3/3 [==============================] - 0s 17ms/step - loss: 191.7860 - val_loss: 2508627.2500\n"
     ]
    }
   ],
   "source": [
    "cnn_multi = Sequential()\n",
    "cnn_multi.add(Conv1D(64, 3, activation='relu', input_shape=(X_train.shape[1], X_train.shape[2])))\n",
    "cnn_multi.add(MaxPooling1D(2))\n",
    "cnn_multi.add(Conv1D(64, 3, activation='relu'))\n",
    "cnn_multi.add(MaxPooling1D(2))\n",
    "cnn_multi.add(Conv1D(128, 3, activation='relu'))\n",
    "cnn_multi.add(MaxPooling1D(2))\n",
    "cnn_multi.add(Flatten())\n",
    "cnn_multi.add(Dense(64, activation='relu'))\n",
    "cnn_multi.add(Dense(24))  # Capa de salida con 24 neuronas para las 24 horas del día\n",
    "\n",
    "cnn_multi.compile(optimizer='adam', loss=custom_loss)\n",
    "history =cnn_multi.fit(X_train, y_train, epochs=50, batch_size=32, validation_data=(X_test, y_test), verbose = 1)"
   ]
  },
  {
   "cell_type": "code",
   "execution_count": 62,
   "id": "2bac4fe3",
   "metadata": {},
   "outputs": [
    {
     "name": "stdout",
     "output_type": "stream",
     "text": [
      "Mean Squared Error (MSE): 89.06748770156975\n",
      "Mean Absolute Error (MAE): 5.23921734885442\n",
      "Valor de custom loss: 256277.49198600813\n"
     ]
    },
    {
     "data": {
      "image/png": "[encoded data removed]",
      "text/plain": [
       "<Figure size 1000x600 with 1 Axes>"
      ]
     },
     "metadata": {},
     "output_type": "display_data"
    }
   ],
   "source": [
    "y_pred_multi = cnn_multi.predict(X_val, verbose=0)\n",
    "\n",
    "y_pred_multi = scaler_precio_spot.inverse_transform(y_pred_multi)\n",
    "y_pred_multi = np.where(y_pred_multi < 0, 0, y_pred_multi)\n",
    "\n",
    "mse = mean_squared_error(y_val, y_pred_multi)\n",
    "print('Mean Squared Error (MSE):', mse)\n",
    "\n",
    "# Calcular el Error Absoluto Medio (MAE)\n",
    "mae = mean_absolute_error(y_val, y_pred_multi)\n",
    "print('Mean Absolute Error (MAE):', mae)\n",
    "\n",
    "metric_value = custom_loss(y_val, y_pred_multi)\n",
    "print(\"Valor de custom loss:\", metric_value.numpy())\n",
    "\n",
    "# Plot de las predicciones vs. los valores reales\n",
    "plt.figure(figsize=(10, 6))\n",
    "plt.plot(y_val.flatten(), label='Valores reales')\n",
    "plt.plot(y_pred_multi.flatten(), label='Predicciones')\n",
    "# plt.plot(np.array(df_last2['precio_spot']), label='ts')\n",
    "plt.title('Predicciones vs. Valores Reales')\n",
    "plt.xlabel('Índice')\n",
    "plt.ylabel('Valor')\n",
    "plt.legend()\n",
    "plt.show()"
   ]
  },
  {
   "cell_type": "markdown",
   "id": "63397edb",
   "metadata": {},
   "source": [
    "Como podemos ver este modelo da unos resultados mejores que los anterirores. Los picos siguen sin ajustarse muy bien pero se nota la mejoria respecto al modelo simple. Trataremos ahora de mejorarlo mediante el uso de capas con dropout y regularizacion."
   ]
  },
  {
   "cell_type": "markdown",
   "id": "61303f61",
   "metadata": {},
   "source": [
    "### DROPOUT + REGULARIZER"
   ]
  },
  {
   "cell_type": "code",
   "execution_count": 46,
   "id": "9d18163c",
   "metadata": {},
   "outputs": [
    {
     "name": "stdout",
     "output_type": "stream",
     "text": [
      "Epoch 1/100\n",
      "3/3 [==============================] - 2s 128ms/step - loss: 981.7017 - val_loss: 2450686.7500\n",
      "Epoch 2/100\n",
      "3/3 [==============================] - 0s 17ms/step - loss: 790.1241 - val_loss: 2429174.5000\n",
      "Epoch 3/100\n",
      "3/3 [==============================] - 0s 16ms/step - loss: 732.3792 - val_loss: 2408570.5000\n",
      "Epoch 4/100\n",
      "3/3 [==============================] - 0s 17ms/step - loss: 688.6627 - val_loss: 2406001.5000\n",
      "Epoch 5/100\n",
      "3/3 [==============================] - 0s 17ms/step - loss: 636.8409 - val_loss: 2418906.0000\n",
      "Epoch 6/100\n",
      "3/3 [==============================] - 0s 17ms/step - loss: 599.6744 - val_loss: 2437396.7500\n",
      "Epoch 7/100\n",
      "3/3 [==============================] - 0s 17ms/step - loss: 589.2656 - val_loss: 2449878.5000\n",
      "Epoch 8/100\n",
      "3/3 [==============================] - 0s 16ms/step - loss: 549.5572 - val_loss: 2457009.5000\n",
      "Epoch 9/100\n",
      "3/3 [==============================] - 0s 17ms/step - loss: 529.9014 - val_loss: 2459116.5000\n",
      "Epoch 10/100\n",
      "3/3 [==============================] - 0s 17ms/step - loss: 491.9203 - val_loss: 2463335.5000\n",
      "Epoch 11/100\n",
      "3/3 [==============================] - 0s 17ms/step - loss: 460.0751 - val_loss: 2468849.2500\n",
      "Epoch 12/100\n",
      "3/3 [==============================] - 0s 17ms/step - loss: 435.9247 - val_loss: 2473606.0000\n",
      "Epoch 13/100\n",
      "3/3 [==============================] - 0s 17ms/step - loss: 395.6367 - val_loss: 2473773.5000\n",
      "Epoch 14/100\n",
      "3/3 [==============================] - 0s 17ms/step - loss: 397.4434 - val_loss: 2470627.7500\n",
      "Epoch 15/100\n",
      "3/3 [==============================] - 0s 16ms/step - loss: 368.2683 - val_loss: 2471754.2500\n",
      "Epoch 16/100\n",
      "3/3 [==============================] - 0s 16ms/step - loss: 357.6083 - val_loss: 2474034.5000\n",
      "Epoch 17/100\n",
      "3/3 [==============================] - 0s 17ms/step - loss: 344.4077 - val_loss: 2468507.5000\n",
      "Epoch 18/100\n",
      "3/3 [==============================] - 0s 16ms/step - loss: 335.5458 - val_loss: 2462954.2500\n",
      "Epoch 19/100\n",
      "3/3 [==============================] - 0s 16ms/step - loss: 349.8640 - val_loss: 2470917.2500\n",
      "Epoch 20/100\n",
      "3/3 [==============================] - 0s 17ms/step - loss: 321.5689 - val_loss: 2476323.7500\n",
      "Epoch 21/100\n",
      "3/3 [==============================] - 0s 17ms/step - loss: 325.9678 - val_loss: 2476426.5000\n",
      "Epoch 22/100\n",
      "3/3 [==============================] - 0s 17ms/step - loss: 308.0528 - val_loss: 2477956.5000\n",
      "Epoch 23/100\n",
      "3/3 [==============================] - 0s 18ms/step - loss: 292.4096 - val_loss: 2474604.0000\n",
      "Epoch 24/100\n",
      "3/3 [==============================] - 0s 18ms/step - loss: 280.1694 - val_loss: 2473152.7500\n",
      "Epoch 25/100\n",
      "3/3 [==============================] - 0s 17ms/step - loss: 282.9980 - val_loss: 2473365.5000\n",
      "Epoch 26/100\n",
      "3/3 [==============================] - 0s 17ms/step - loss: 313.3256 - val_loss: 2479901.5000\n",
      "Epoch 27/100\n",
      "3/3 [==============================] - 0s 16ms/step - loss: 289.2233 - val_loss: 2476840.0000\n",
      "Epoch 28/100\n",
      "3/3 [==============================] - 0s 17ms/step - loss: 267.6300 - val_loss: 2473768.5000\n",
      "Epoch 29/100\n",
      "3/3 [==============================] - 0s 17ms/step - loss: 294.3152 - val_loss: 2468670.0000\n",
      "Epoch 30/100\n",
      "3/3 [==============================] - 0s 17ms/step - loss: 252.1131 - val_loss: 2474474.7500\n",
      "Epoch 31/100\n",
      "3/3 [==============================] - 0s 16ms/step - loss: 263.2825 - val_loss: 2476709.2500\n",
      "Epoch 32/100\n",
      "3/3 [==============================] - 0s 17ms/step - loss: 266.3110 - val_loss: 2466739.7500\n",
      "Epoch 33/100\n",
      "3/3 [==============================] - 0s 16ms/step - loss: 278.6115 - val_loss: 2470698.7500\n",
      "Epoch 34/100\n",
      "3/3 [==============================] - 0s 17ms/step - loss: 256.5278 - val_loss: 2476562.5000\n",
      "Epoch 35/100\n",
      "3/3 [==============================] - 0s 17ms/step - loss: 283.4399 - val_loss: 2489230.5000\n",
      "Epoch 36/100\n",
      "3/3 [==============================] - 0s 17ms/step - loss: 256.9749 - val_loss: 2477082.5000\n",
      "Epoch 37/100\n",
      "3/3 [==============================] - 0s 17ms/step - loss: 251.9903 - val_loss: 2473294.5000\n",
      "Epoch 38/100\n",
      "3/3 [==============================] - 0s 16ms/step - loss: 266.4305 - val_loss: 2478036.5000\n",
      "Epoch 39/100\n",
      "3/3 [==============================] - 0s 17ms/step - loss: 273.7275 - val_loss: 2487114.5000\n",
      "Epoch 40/100\n",
      "3/3 [==============================] - 0s 31ms/step - loss: 269.0395 - val_loss: 2475203.2500\n",
      "Epoch 41/100\n",
      "3/3 [==============================] - 0s 28ms/step - loss: 240.7711 - val_loss: 2479307.2500\n",
      "Epoch 42/100\n",
      "3/3 [==============================] - 0s 21ms/step - loss: 272.2751 - val_loss: 2482301.5000\n",
      "Epoch 43/100\n",
      "3/3 [==============================] - 0s 17ms/step - loss: 262.2436 - val_loss: 2496310.7500\n",
      "Epoch 44/100\n",
      "3/3 [==============================] - 0s 16ms/step - loss: 253.8746 - val_loss: 2490551.2500\n",
      "Epoch 45/100\n",
      "3/3 [==============================] - 0s 17ms/step - loss: 278.4968 - val_loss: 2485145.7500\n",
      "Epoch 46/100\n",
      "3/3 [==============================] - 0s 17ms/step - loss: 246.8457 - val_loss: 2487183.2500\n",
      "Epoch 47/100\n",
      "3/3 [==============================] - 0s 17ms/step - loss: 234.8949 - val_loss: 2492970.7500\n",
      "Epoch 48/100\n",
      "3/3 [==============================] - 0s 17ms/step - loss: 281.6016 - val_loss: 2482582.0000\n",
      "Epoch 49/100\n",
      "3/3 [==============================] - 0s 18ms/step - loss: 240.7816 - val_loss: 2477513.5000\n",
      "Epoch 50/100\n",
      "3/3 [==============================] - 0s 18ms/step - loss: 239.9163 - val_loss: 2480581.2500\n",
      "Epoch 51/100\n",
      "3/3 [==============================] - 0s 18ms/step - loss: 229.8152 - val_loss: 2499994.0000\n",
      "Epoch 52/100\n",
      "3/3 [==============================] - 0s 18ms/step - loss: 244.0225 - val_loss: 2496405.5000\n",
      "Epoch 53/100\n",
      "3/3 [==============================] - 0s 18ms/step - loss: 249.4282 - val_loss: 2485567.7500\n",
      "Epoch 54/100\n",
      "3/3 [==============================] - 0s 17ms/step - loss: 226.9896 - val_loss: 2495618.7500\n",
      "Epoch 55/100\n",
      "3/3 [==============================] - 0s 17ms/step - loss: 244.9082 - val_loss: 2487709.2500\n",
      "Epoch 56/100\n",
      "3/3 [==============================] - 0s 16ms/step - loss: 238.5881 - val_loss: 2484619.7500\n",
      "Epoch 57/100\n",
      "3/3 [==============================] - 0s 17ms/step - loss: 237.8582 - val_loss: 2489956.0000\n",
      "Epoch 58/100\n",
      "3/3 [==============================] - 0s 17ms/step - loss: 227.7477 - val_loss: 2494598.0000\n",
      "Epoch 59/100\n",
      "3/3 [==============================] - 0s 18ms/step - loss: 228.4376 - val_loss: 2494072.2500\n",
      "Epoch 60/100\n",
      "3/3 [==============================] - 0s 17ms/step - loss: 239.5367 - val_loss: 2491499.5000\n",
      "Epoch 61/100\n",
      "3/3 [==============================] - 0s 17ms/step - loss: 188.5722 - val_loss: 2492025.7500\n",
      "Epoch 62/100\n",
      "3/3 [==============================] - 0s 17ms/step - loss: 235.7047 - val_loss: 2487525.2500\n",
      "Epoch 63/100\n",
      "3/3 [==============================] - 0s 17ms/step - loss: 225.5682 - val_loss: 2500554.2500\n",
      "Epoch 64/100\n",
      "3/3 [==============================] - 0s 17ms/step - loss: 229.7902 - val_loss: 2504785.2500\n",
      "Epoch 65/100\n",
      "3/3 [==============================] - 0s 16ms/step - loss: 224.0272 - val_loss: 2493454.2500\n",
      "Epoch 66/100\n",
      "3/3 [==============================] - 0s 17ms/step - loss: 238.7509 - val_loss: 2498669.2500\n",
      "Epoch 67/100\n",
      "3/3 [==============================] - 0s 17ms/step - loss: 217.6410 - val_loss: 2512065.2500\n",
      "Epoch 68/100\n",
      "3/3 [==============================] - 0s 17ms/step - loss: 225.8413 - val_loss: 2496200.2500\n",
      "Epoch 69/100\n",
      "3/3 [==============================] - 0s 17ms/step - loss: 224.3223 - val_loss: 2500112.2500\n",
      "Epoch 70/100\n",
      "3/3 [==============================] - 0s 18ms/step - loss: 201.5767 - val_loss: 2519305.5000\n",
      "Epoch 71/100\n",
      "3/3 [==============================] - 0s 17ms/step - loss: 213.9549 - val_loss: 2510177.2500\n",
      "Epoch 72/100\n",
      "3/3 [==============================] - 0s 17ms/step - loss: 209.5921 - val_loss: 2506690.7500\n",
      "Epoch 73/100\n",
      "3/3 [==============================] - 0s 17ms/step - loss: 193.2947 - val_loss: 2515424.0000\n",
      "Epoch 74/100\n",
      "3/3 [==============================] - 0s 17ms/step - loss: 210.1146 - val_loss: 2519844.2500\n",
      "Epoch 75/100\n",
      "3/3 [==============================] - 0s 18ms/step - loss: 202.4767 - val_loss: 2508886.0000\n",
      "Epoch 76/100\n",
      "3/3 [==============================] - 0s 17ms/step - loss: 199.3512 - val_loss: 2505602.0000\n",
      "Epoch 77/100\n",
      "3/3 [==============================] - 0s 17ms/step - loss: 220.5790 - val_loss: 2520805.2500\n",
      "Epoch 78/100\n",
      "3/3 [==============================] - 0s 17ms/step - loss: 203.0923 - val_loss: 2513720.0000\n",
      "Epoch 79/100\n",
      "3/3 [==============================] - 0s 16ms/step - loss: 202.2829 - val_loss: 2488342.0000\n",
      "Epoch 80/100\n",
      "3/3 [==============================] - 0s 33ms/step - loss: 236.8213 - val_loss: 2517814.5000\n",
      "Epoch 81/100\n",
      "3/3 [==============================] - 0s 21ms/step - loss: 185.9028 - val_loss: 2530522.7500\n",
      "Epoch 82/100\n",
      "3/3 [==============================] - 0s 18ms/step - loss: 221.6462 - val_loss: 2510794.7500\n",
      "Epoch 83/100\n",
      "3/3 [==============================] - 0s 17ms/step - loss: 197.6057 - val_loss: 2509224.0000\n",
      "Epoch 84/100\n",
      "3/3 [==============================] - 0s 17ms/step - loss: 195.4792 - val_loss: 2528638.7500\n",
      "Epoch 85/100\n",
      "3/3 [==============================] - 0s 17ms/step - loss: 182.5588 - val_loss: 2525361.7500\n",
      "Epoch 86/100\n",
      "3/3 [==============================] - 0s 17ms/step - loss: 199.8992 - val_loss: 2515562.7500\n",
      "Epoch 87/100\n",
      "3/3 [==============================] - 0s 16ms/step - loss: 186.9055 - val_loss: 2523918.2500\n",
      "Epoch 88/100\n",
      "3/3 [==============================] - 0s 17ms/step - loss: 178.3274 - val_loss: 2533331.5000\n",
      "Epoch 89/100\n",
      "3/3 [==============================] - 0s 17ms/step - loss: 187.9537 - val_loss: 2534633.2500\n",
      "Epoch 90/100\n",
      "3/3 [==============================] - 0s 17ms/step - loss: 192.3176 - val_loss: 2526931.7500\n",
      "Epoch 91/100\n",
      "3/3 [==============================] - 0s 17ms/step - loss: 187.6049 - val_loss: 2511446.7500\n",
      "Epoch 92/100\n",
      "3/3 [==============================] - 0s 17ms/step - loss: 186.9810 - val_loss: 2525646.5000\n",
      "Epoch 93/100\n",
      "3/3 [==============================] - 0s 17ms/step - loss: 184.3287 - val_loss: 2531196.5000\n",
      "Epoch 94/100\n",
      "3/3 [==============================] - 0s 17ms/step - loss: 184.1595 - val_loss: 2522646.0000\n",
      "Epoch 95/100\n",
      "3/3 [==============================] - 0s 17ms/step - loss: 181.9928 - val_loss: 2535748.5000\n",
      "Epoch 96/100\n",
      "3/3 [==============================] - 0s 18ms/step - loss: 187.2018 - val_loss: 2538578.5000\n",
      "Epoch 97/100\n",
      "3/3 [==============================] - 0s 18ms/step - loss: 171.7563 - val_loss: 2531807.7500\n",
      "Epoch 98/100\n",
      "3/3 [==============================] - 0s 18ms/step - loss: 177.7189 - val_loss: 2523582.5000\n",
      "Epoch 99/100\n",
      "3/3 [==============================] - 0s 16ms/step - loss: 187.9418 - val_loss: 2535486.5000\n",
      "Epoch 100/100\n",
      "3/3 [==============================] - 0s 17ms/step - loss: 180.6040 - val_loss: 2529766.5000\n"
     ]
    }
   ],
   "source": [
    "cnn_drop = Sequential()\n",
    "cnn_drop.add(Conv1D(64, 3, activation='relu', input_shape=(X_train.shape[1], X_train.shape[2])))\n",
    "cnn_drop.add(MaxPooling1D(2))\n",
    "cnn_drop.add(Dropout(0.2))  # Dropout con probabilidad de 0.5\n",
    "cnn_drop.add(Conv1D(64, 3, activation='relu', kernel_regularizer=regularizers.l2(0.01)))\n",
    "cnn_drop.add(MaxPooling1D(2))\n",
    "cnn_drop.add(Dropout(0.2))  # Dropout con probabilidad de 0.5\n",
    "cnn_drop.add(Conv1D(128, 3, activation='relu', kernel_regularizer=regularizers.l2(0.01)))\n",
    "cnn_drop.add(MaxPooling1D(2))\n",
    "cnn_drop.add(Flatten())\n",
    "cnn_drop.add(Dense(64, activation='relu'))\n",
    "cnn_drop.add(Dense(24))  # Capa de salida con 24 neuronas para las 24 horas del día\n",
    "\n",
    "cnn_drop.compile(optimizer='adam', loss=custom_loss)\n",
    "history =cnn_drop.fit(X_train, y_train, epochs=100, batch_size=32, validation_data=(X_test, y_test), verbose = 1)"
   ]
  },
  {
   "cell_type": "code",
   "execution_count": 47,
   "id": "3752872d",
   "metadata": {},
   "outputs": [
    {
     "name": "stdout",
     "output_type": "stream",
     "text": [
      "Mean Squared Error (MSE): 100.18802656143664\n",
      "Mean Absolute Error (MAE): 7.60979855356531\n",
      "Valor de custom loss: 194645.0843129837\n"
     ]
    },
    {
     "data": {
      "image/png": "[encoded data removed]",
      "text/plain": [
       "<Figure size 1000x600 with 1 Axes>"
      ]
     },
     "metadata": {},
     "output_type": "display_data"
    }
   ],
   "source": [
    "y_pred_drop = cnn_drop.predict(X_val, verbose=0)\n",
    "\n",
    "y_pred_drop = scaler_precio_spot.inverse_transform(y_pred_drop)\n",
    "y_pred_drop = np.where(y_pred_drop < 0, 0, y_pred_drop)\n",
    "\n",
    "mse = mean_squared_error(y_val, y_pred_drop)\n",
    "print('Mean Squared Error (MSE):', mse)\n",
    "\n",
    "# Calcular el Error Absoluto Medio (MAE)\n",
    "mae = mean_absolute_error(y_val, y_pred_drop)\n",
    "print('Mean Absolute Error (MAE):', mae)\n",
    "\n",
    "metric_value = custom_loss(y_val, y_pred_drop)\n",
    "print(\"Valor de custom loss:\", metric_value.numpy())\n",
    "\n",
    "# Plot de las predicciones vs. los valores reales\n",
    "plt.figure(figsize=(10, 6))\n",
    "plt.plot(y_val.flatten(), label='Valores reales')\n",
    "plt.plot(y_pred_drop.flatten(), label='Predicciones')\n",
    "# plt.plot(np.array(df_last2['precio_spot']), label='ts')\n",
    "plt.title('Predicciones vs. Valores Reales')\n",
    "plt.xlabel('Índice')\n",
    "plt.ylabel('Valor')\n",
    "plt.legend()\n",
    "plt.show()"
   ]
  },
  {
   "cell_type": "markdown",
   "id": "9f728238",
   "metadata": {},
   "source": [
    "En este caso nuestro modelo no se ve beneficiado por el uso de dropout y regularizacion. Los resultados son notablemente peores, los valles no se logran modelar correctamente y los picos tampoco."
   ]
  },
  {
   "cell_type": "markdown",
   "id": "4772a2d0",
   "metadata": {},
   "source": [
    "Por ultimo implementamos un modelo hibrido que combina las 2 tecnologias anterirores, las LSTM y CNN."
   ]
  },
  {
   "cell_type": "markdown",
   "id": "4260adf5",
   "metadata": {},
   "source": [
    "## LSTM + CNN"
   ]
  },
  {
   "cell_type": "markdown",
   "id": "5c1b1a99",
   "metadata": {},
   "source": [
    "En esta implementacion combinaremos nuestro modelo CNN con capas LSTM."
   ]
  },
  {
   "cell_type": "code",
   "execution_count": 48,
   "id": "4c4dcb7a",
   "metadata": {},
   "outputs": [
    {
     "name": "stdout",
     "output_type": "stream",
     "text": [
      "Epoch 1/50\n",
      "5/5 [==============================] - 7s 302ms/step - loss: 499.4431 - val_loss: 2470204.7500\n",
      "Epoch 2/50\n",
      "5/5 [==============================] - 0s 12ms/step - loss: 485.8328 - val_loss: 2453081.2500\n",
      "Epoch 3/50\n",
      "5/5 [==============================] - 0s 13ms/step - loss: 444.1487 - val_loss: 2413370.7500\n",
      "Epoch 4/50\n",
      "5/5 [==============================] - 0s 12ms/step - loss: 391.2960 - val_loss: 2375700.5000\n",
      "Epoch 5/50\n",
      "5/5 [==============================] - 0s 13ms/step - loss: 358.6337 - val_loss: 2394438.7500\n",
      "Epoch 6/50\n",
      "5/5 [==============================] - 0s 13ms/step - loss: 320.6389 - val_loss: 2432218.7500\n",
      "Epoch 7/50\n",
      "5/5 [==============================] - 0s 13ms/step - loss: 306.3670 - val_loss: 2449333.5000\n",
      "Epoch 8/50\n",
      "5/5 [==============================] - 0s 13ms/step - loss: 278.1544 - val_loss: 2463998.2500\n",
      "Epoch 9/50\n",
      "5/5 [==============================] - 0s 13ms/step - loss: 265.8087 - val_loss: 2473218.7500\n",
      "Epoch 10/50\n",
      "5/5 [==============================] - 0s 12ms/step - loss: 257.0208 - val_loss: 2475890.7500\n",
      "Epoch 11/50\n",
      "5/5 [==============================] - 0s 12ms/step - loss: 224.9727 - val_loss: 2479256.7500\n",
      "Epoch 12/50\n",
      "5/5 [==============================] - 0s 13ms/step - loss: 209.6157 - val_loss: 2489273.2500\n",
      "Epoch 13/50\n",
      "5/5 [==============================] - 0s 27ms/step - loss: 208.6919 - val_loss: 2481800.0000\n",
      "Epoch 14/50\n",
      "5/5 [==============================] - 0s 15ms/step - loss: 182.4227 - val_loss: 2501632.5000\n",
      "Epoch 15/50\n",
      "5/5 [==============================] - 0s 14ms/step - loss: 161.8931 - val_loss: 2484053.2500\n",
      "Epoch 16/50\n",
      "5/5 [==============================] - 0s 12ms/step - loss: 159.3748 - val_loss: 2512947.5000\n",
      "Epoch 17/50\n",
      "5/5 [==============================] - 0s 12ms/step - loss: 154.9908 - val_loss: 2486880.5000\n",
      "Epoch 18/50\n",
      "5/5 [==============================] - 0s 13ms/step - loss: 135.0253 - val_loss: 2508969.2500\n",
      "Epoch 19/50\n",
      "5/5 [==============================] - 0s 12ms/step - loss: 132.7919 - val_loss: 2487488.7500\n",
      "Epoch 20/50\n",
      "5/5 [==============================] - 0s 12ms/step - loss: 131.6745 - val_loss: 2508011.2500\n",
      "Epoch 21/50\n",
      "5/5 [==============================] - 0s 12ms/step - loss: 124.8015 - val_loss: 2503184.0000\n",
      "Epoch 22/50\n",
      "5/5 [==============================] - 0s 13ms/step - loss: 122.3239 - val_loss: 2509934.7500\n",
      "Epoch 23/50\n",
      "5/5 [==============================] - 0s 13ms/step - loss: 117.0247 - val_loss: 2509624.5000\n",
      "Epoch 24/50\n",
      "5/5 [==============================] - 0s 12ms/step - loss: 120.6896 - val_loss: 2507453.2500\n",
      "Epoch 25/50\n",
      "5/5 [==============================] - 0s 13ms/step - loss: 113.7924 - val_loss: 2510741.2500\n",
      "Epoch 26/50\n",
      "5/5 [==============================] - 0s 13ms/step - loss: 114.2454 - val_loss: 2504278.5000\n",
      "Epoch 27/50\n",
      "5/5 [==============================] - 0s 13ms/step - loss: 109.5513 - val_loss: 2511352.0000\n",
      "Epoch 28/50\n",
      "5/5 [==============================] - 0s 13ms/step - loss: 120.7490 - val_loss: 2491734.5000\n",
      "Epoch 29/50\n",
      "5/5 [==============================] - 0s 12ms/step - loss: 126.0387 - val_loss: 2518347.7500\n",
      "Epoch 30/50\n",
      "5/5 [==============================] - 0s 12ms/step - loss: 124.4621 - val_loss: 2503188.2500\n",
      "Epoch 31/50\n",
      "5/5 [==============================] - 0s 13ms/step - loss: 125.4992 - val_loss: 2515004.0000\n",
      "Epoch 32/50\n",
      "5/5 [==============================] - 0s 14ms/step - loss: 115.7519 - val_loss: 2513854.0000\n",
      "Epoch 33/50\n",
      "5/5 [==============================] - 0s 12ms/step - loss: 110.7261 - val_loss: 2498554.5000\n",
      "Epoch 34/50\n",
      "5/5 [==============================] - 0s 12ms/step - loss: 101.4149 - val_loss: 2520050.5000\n",
      "Epoch 35/50\n",
      "5/5 [==============================] - 0s 12ms/step - loss: 111.0820 - val_loss: 2510115.5000\n",
      "Epoch 36/50\n",
      "5/5 [==============================] - 0s 13ms/step - loss: 113.3293 - val_loss: 2509884.2500\n",
      "Epoch 37/50\n",
      "5/5 [==============================] - 0s 12ms/step - loss: 104.7124 - val_loss: 2515904.5000\n",
      "Epoch 38/50\n",
      "5/5 [==============================] - 0s 12ms/step - loss: 104.9274 - val_loss: 2514304.0000\n",
      "Epoch 39/50\n",
      "5/5 [==============================] - 0s 12ms/step - loss: 103.6095 - val_loss: 2520174.7500\n",
      "Epoch 40/50\n",
      "5/5 [==============================] - 0s 13ms/step - loss: 104.6547 - val_loss: 2507666.5000\n",
      "Epoch 41/50\n",
      "5/5 [==============================] - 0s 12ms/step - loss: 101.3938 - val_loss: 2517975.7500\n",
      "Epoch 42/50\n",
      "5/5 [==============================] - 0s 14ms/step - loss: 103.7491 - val_loss: 2514506.2500\n",
      "Epoch 43/50\n",
      "5/5 [==============================] - 0s 14ms/step - loss: 97.9436 - val_loss: 2521827.2500\n",
      "Epoch 44/50\n",
      "5/5 [==============================] - 0s 13ms/step - loss: 94.4566 - val_loss: 2520064.0000\n",
      "Epoch 45/50\n",
      "5/5 [==============================] - 0s 13ms/step - loss: 93.3929 - val_loss: 2522197.2500\n",
      "Epoch 46/50\n",
      "5/5 [==============================] - 0s 12ms/step - loss: 95.6097 - val_loss: 2526306.5000\n",
      "Epoch 47/50\n",
      "5/5 [==============================] - 0s 13ms/step - loss: 92.1073 - val_loss: 2527806.2500\n",
      "Epoch 48/50\n",
      "5/5 [==============================] - 0s 12ms/step - loss: 93.9028 - val_loss: 2541600.5000\n",
      "Epoch 49/50\n",
      "5/5 [==============================] - 0s 12ms/step - loss: 97.2792 - val_loss: 2532206.0000\n",
      "Epoch 50/50\n",
      "5/5 [==============================] - 0s 12ms/step - loss: 89.7197 - val_loss: 2542138.0000\n"
     ]
    }
   ],
   "source": [
    "cnn_lstm = Sequential()\n",
    "cnn_lstm.add(Conv1D(64, 3, activation='relu', input_shape=(X_train.shape[1], X_train.shape[2])))\n",
    "cnn_lstm.add(MaxPooling1D(2))\n",
    "cnn_lstm.add(Conv1D(64, 3, activation='relu'))\n",
    "cnn_lstm.add(MaxPooling1D(2))\n",
    "cnn_lstm.add(Conv1D(128, 3, activation='relu'))\n",
    "cnn_lstm.add(MaxPooling1D(2))\n",
    "# cnn_lstm.add(Flatten())\n",
    "cnn_lstm.add(Dense(24))  \n",
    "# Agregar capa LSTM\n",
    "cnn_lstm.add(LSTM(units=128, return_sequences=True)) \n",
    "cnn_lstm.add(LSTM(units=64))  # Puedes ajustar el número de unidades LSTM según tus necesidades\n",
    " # Puedes ajustar el número de unidades LSTM según tus necesidades\n",
    "# La salida de LSTM es (batch_size, units)\n",
    "cnn_lstm.add(Dense(24))  \n",
    "\n",
    "\n",
    "cnn_lstm.compile(optimizer='adam', loss=custom_loss)\n",
    "history =cnn_lstm.fit(X_train, y_train, epochs=50, batch_size=16, validation_data=(X_test, y_test), verbose = 1)"
   ]
  },
  {
   "cell_type": "code",
   "execution_count": 49,
   "id": "7f8d29f4",
   "metadata": {},
   "outputs": [
    {
     "name": "stdout",
     "output_type": "stream",
     "text": [
      "Mean Squared Error (MSE): 71.86454525673619\n",
      "Mean Absolute Error (MAE): 4.98025369528736\n",
      "Valor de la métrica personalizada: 154679.58047860512\n"
     ]
    },
    {
     "data": {
      "image/png": "[encoded data removed]",
      "text/plain": [
       "<Figure size 1000x600 with 1 Axes>"
      ]
     },
     "metadata": {},
     "output_type": "display_data"
    }
   ],
   "source": [
    "\n",
    "y_pred_cnn_lstm = cnn_lstm.predict(X_val, verbose=0)\n",
    "\n",
    "y_pred_cnn_lstm = scaler_precio_spot.inverse_transform(y_pred_cnn_lstm)\n",
    "y_pred_cnn_lstm = np.where(y_pred_cnn_lstm < 0, 0, y_pred_cnn_lstm)\n",
    "\n",
    "\n",
    "mse = mean_squared_error(y_val, y_pred_cnn_lstm)\n",
    "print('Mean Squared Error (MSE):', mse)\n",
    "\n",
    "# Calcular el Error Absoluto Medio (MAE)\n",
    "mae = mean_absolute_error(y_val, y_pred_cnn_lstm)\n",
    "print('Mean Absolute Error (MAE):', mae)\n",
    "\n",
    "metric_value = custom_loss(y_val, y_pred_cnn_lstm)\n",
    "print(\"Valor de la métrica personalizada:\", metric_value.numpy())\n",
    "\n",
    "# Plot de las predicciones vs. los valores reales\n",
    "plt.figure(figsize=(10, 6))\n",
    "plt.plot(y_val.flatten(), label='Valores reales')\n",
    "plt.plot(y_pred_cnn_lstm.flatten(), label='Predicciones')\n",
    "# plt.plot(np.array(df_last2['precio_spot']), label='ts')\n",
    "plt.title('Predicciones vs. Valores Reales')\n",
    "plt.xlabel('Índice')\n",
    "plt.ylabel('Valor')\n",
    "plt.legend()\n",
    "plt.show()\n"
   ]
  },
  {
   "cell_type": "markdown",
   "id": "32bd7129",
   "metadata": {},
   "source": [
    "Obtenemos un modelo con metricas ligeramente mejores que las del modelo multicapa sin dropout. Los valles se modelan correctamente y los picos se ajustan mejor que en otras implementaciones. "
   ]
  },
  {
   "cell_type": "markdown",
   "id": "54cc5368",
   "metadata": {},
   "source": [
    "## GRID SEARCH"
   ]
  },
  {
   "cell_type": "code",
   "execution_count": 50,
   "id": "0f9463f7",
   "metadata": {},
   "outputs": [],
   "source": [
    "# from keras.models import Sequential\n",
    "# from keras.layers import Conv1D, MaxPooling1D, Flatten, Dense\n",
    "# from scikeras.wrappers import KerasRegressor\n",
    "# from sklearn.model_selection import GridSearchCV\n",
    "# from keras.optimizers import Adam, RMSprop\n",
    "\n",
    "# # Función para crear el modelo\n",
    "# def create_model(activation='relu', filters_per_layer=[64, 32], kernel_size_per_layer=[3, 3], optimizer=Adam()):\n",
    "#     cnn_multi = Sequential()\n",
    "#     for filters, kernel_size in zip(filters_per_layer, kernel_size_per_layer):\n",
    "#         cnn_multi.add(Conv1D(filters=filters, kernel_size=kernel_size, activation=activation, input_shape=(X_train.shape[1], X_train.shape[2])))\n",
    "#         cnn_multi.add(MaxPooling1D(pool_size=2))\n",
    "#     cnn_multi.add(Flatten())\n",
    "#     cnn_multi.add(Dense(50, activation=activation))\n",
    "#     cnn_multi.add(Dense(24))\n",
    "#     cnn_multi.compile(optimizer=optimizer, loss=custom_loss)\n",
    "#     return cnn_multi\n",
    "\n",
    "# # Wrapping del modelo Keras para usarlo con scikit-learn\n",
    "# model = KerasRegressor(build_fn=create_model, epochs=50, batch_size=32, verbose=1)\n",
    "\n",
    "# # Definir los parámetros a explorar\n",
    "# param_grid = {\n",
    "#     'activation': ['relu', 'elu'],\n",
    "#     'filters_per_layer': [[32, 64], [64, 32, 16], [128, 64, 32]],\n",
    "#     'kernel_size_per_layer': [(3, 3), (5, 5), (3, 5)],\n",
    "#     'optimizer': [Adam(), RMSprop()]\n",
    "# }\n",
    "\n",
    "# # Realizar la búsqueda de hiperparámetros\n",
    "# grid_search = GridSearchCV(estimator=model, param_grid=param_grid, cv=3)\n",
    "# grid_result = grid_search.fit(X_train, y_train)\n",
    "\n",
    "# # Mostrar los resultados\n",
    "# print(\"Mejor resultado: %f utilizando %s\" % (grid_result.best_score_, grid_result.best_params_))\n"
   ]
  },
  {
   "cell_type": "code",
   "execution_count": 51,
   "id": "fcb30519",
   "metadata": {},
   "outputs": [],
   "source": [
    "# model.get_params().keys()"
   ]
  },
  {
   "cell_type": "markdown",
   "id": "59522d97",
   "metadata": {},
   "source": [
    "Los resultados de este modelo hibrido son ligeramente peores que los de la CNN sola, parece que tiende sobreestimar el valor real tanto en los picos como en los valles. Por tanto descartamos este modelo y seleccionamos la CNN como modelo ganador."
   ]
  },
  {
   "cell_type": "markdown",
   "id": "d6751d8a",
   "metadata": {},
   "source": [
    "# MODELS COMPARATIVE"
   ]
  },
  {
   "cell_type": "markdown",
   "id": "b15fcdf9",
   "metadata": {},
   "source": [
    "Compararemos las graficas de los 2 mejores modelos con el fin de seleccionar uno de ellos como ganador. Estos modelos seran la CNN multicapa sin dropout ni regularizacion, y el modelo que combina capas CNN con LSTM."
   ]
  },
  {
   "cell_type": "code",
   "execution_count": 63,
   "id": "81655300",
   "metadata": {},
   "outputs": [
    {
     "data": {
      "image/png": "[encoded data removed]",
      "text/plain": [
       "<Figure size 1000x600 with 1 Axes>"
      ]
     },
     "metadata": {},
     "output_type": "display_data"
    }
   ],
   "source": [
    "plt.figure(figsize=(10, 6))\n",
    "plt.plot(y_val.flatten(), label='Real', color='green')\n",
    "plt.plot(y_pred_multi.flatten(), label='CNN MULTILAYER', color='blue')\n",
    "plt.plot(y_pred_cnn_lstm.flatten(), label='CNN + LSTM ', color='orange')\n",
    "\n",
    "plt.title('Predicciones de la serie temporal')\n",
    "plt.xlabel('Fecha')\n",
    "plt.ylabel('Valor')\n",
    "plt.legend()\n",
    "plt.show()"
   ]
  },
  {
   "cell_type": "code",
   "execution_count": 64,
   "id": "56ed0b20",
   "metadata": {},
   "outputs": [
    {
     "data": {
      "application/vnd.plotly.v1+json": {
       "config": {
        "plotlyServerURL": "https://plot.ly"
       },
       "data": [
        {
         "line": {
          "color": "green"
         },
         "mode": "lines",
         "name": "Real",
         "type": "scatter",
         "x": [
          0,
          1,
          2,
          3,
          4,
          5,
          6,
          7,
          8,
          9,
          10,
          11,
          12,
          13,
          14,
          15,
          16,
          17,
          18,
          19,
          20,
          21,
          22,
          23,
          24,
          25,
          26,
          27,
          28,
          29,
          30,
          31,
          32,
          33,
          34,
          35,
          36,
          37,
          38,
          39,
          40,
          41,
          42,
          43,
          44,
          45,
          46,
          47,
          48,
          49,
          50,
          51,
          52,
          53,
          54,
          55,
          56,
          57,
          58,
          59,
          60,
          61,
          62,
          63,
          64,
          65,
          66,
          67,
          68,
          69,
          70,
          71,
          72,
          73,
          74,
          75,
          76,
          77,
          78,
          79,
          80,
          81,
          82,
          83,
          84,
          85,
          86,
          87,
          88,
          89,
          90,
          91,
          92,
          93,
          94,
          95,
          96,
          97,
          98,
          99,
          100,
          101,
          102,
          103,
          104,
          105,
          106,
          107,
          108,
          109,
          110,
          111,
          112,
          113,
          114,
          115,
          116,
          117,
          118,
          119,
          120,
          121,
          122,
          123,
          124,
          125,
          126,
          127,
          128,
          129,
          130,
          131,
          132,
          133,
          134,
          135,
          136,
          137,
          138,
          139,
          140,
          141,
          142,
          143
         ],
         "y": [
          3.6000000000000014,
          3.25,
          3.25,
          1.6300000000000026,
          2,
          3.25,
          20,
          35,
          35,
          10.02,
          1.6300000000000026,
          0.4399999999999977,
          0.4399999999999977,
          0.00999999999999801,
          0,
          0,
          0.00999999999999801,
          0.9399999999999977,
          2.770000000000003,
          8.689999999999998,
          34.9,
          35,
          29.6,
          5,
          3.25,
          1.6799999999999997,
          1.3500000000000014,
          1,
          0.09000000000000341,
          1,
          3.25,
          28.07,
          34.9,
          5.5,
          2,
          0.4399999999999977,
          0,
          0,
          0,
          0,
          0,
          0,
          0.3999999999999986,
          6.759999999999998,
          35,
          35,
          31.62,
          25.43,
          2.6000000000000014,
          0.4399999999999977,
          3.25,
          4.990000000000002,
          3.25,
          3.25,
          3.25,
          11.189999999999998,
          13.469999999999999,
          3.740000000000002,
          0.4399999999999977,
          0,
          0,
          0,
          0,
          0,
          0,
          0,
          0,
          3.25,
          10,
          25,
          4.600000000000001,
          3.25,
          0.4399999999999977,
          0.4799999999999969,
          0.00999999999999801,
          0,
          0,
          0,
          0.3999999999999986,
          3.25,
          2.969999999999999,
          0,
          0,
          0,
          0,
          0,
          0,
          0,
          0,
          0,
          0,
          0,
          0.020000000000003126,
          2,
          1,
          0,
          0,
          0,
          0,
          0,
          0,
          0,
          0,
          0,
          0,
          0,
          0,
          0,
          0,
          0,
          0,
          0,
          0,
          0,
          0,
          0.00999999999999801,
          3.25,
          8,
          3.4399999999999977,
          3.25,
          0.9699999999999989,
          0.14999999999999858,
          0,
          0,
          0,
          0,
          0,
          0,
          0,
          0,
          0,
          0,
          0,
          0,
          0,
          0,
          0,
          0,
          0,
          0.3999999999999986,
          25,
          35,
          25,
          10.66
         ]
        },
        {
         "line": {
          "color": "red"
         },
         "mode": "lines",
         "name": "CNN BASIC",
         "type": "scatter",
         "x": [
          0,
          1,
          2,
          3,
          4,
          5,
          6,
          7,
          8,
          9,
          10,
          11,
          12,
          13,
          14,
          15,
          16,
          17,
          18,
          19,
          20,
          21,
          22,
          23,
          24,
          25,
          26,
          27,
          28,
          29,
          30,
          31,
          32,
          33,
          34,
          35,
          36,
          37,
          38,
          39,
          40,
          41,
          42,
          43,
          44,
          45,
          46,
          47,
          48,
          49,
          50,
          51,
          52,
          53,
          54,
          55,
          56,
          57,
          58,
          59,
          60,
          61,
          62,
          63,
          64,
          65,
          66,
          67,
          68,
          69,
          70,
          71,
          72,
          73,
          74,
          75,
          76,
          77,
          78,
          79,
          80,
          81,
          82,
          83,
          84,
          85,
          86,
          87,
          88,
          89,
          90,
          91,
          92,
          93,
          94,
          95,
          96,
          97,
          98,
          99,
          100,
          101,
          102,
          103,
          104,
          105,
          106,
          107,
          108,
          109,
          110,
          111,
          112,
          113,
          114,
          115,
          116,
          117,
          118,
          119,
          120,
          121,
          122,
          123,
          124,
          125,
          126,
          127,
          128,
          129,
          130,
          131,
          132,
          133,
          134,
          135,
          136,
          137,
          138,
          139,
          140,
          141,
          142,
          143
         ],
         "y": [
          11.76569,
          10.024715,
          9.888336,
          4.3149567,
          9.385073,
          5.8933315,
          10.447878,
          23.781433,
          18.726934,
          7.2413692,
          1.588583,
          0,
          0,
          0,
          0.029867195,
          2.1549358,
          2.1355762,
          4.2372227,
          10.338593,
          23.51765,
          43.944767,
          38.728695,
          18.770754,
          15.5523815,
          6.8065453,
          0.10556605,
          1.9627361,
          0,
          2.237486,
          0,
          1.6213932,
          26.560524,
          15.421801,
          3.4330997,
          0,
          0,
          0,
          0,
          0,
          0,
          0,
          3.6997375,
          10.325813,
          26.880806,
          45.338314,
          40.887314,
          16.172201,
          5.0723495,
          10.545555,
          6.8404713,
          7.1092014,
          1.4109554,
          10.773043,
          1.9865322,
          6.907055,
          30.850996,
          19.84037,
          3.8853111,
          0,
          0,
          0,
          0,
          0,
          0,
          0,
          5.0279007,
          16.899137,
          31.148674,
          51.99207,
          46.892838,
          18.82815,
          10.375479,
          2.0832043,
          3.981142,
          2.3220463,
          0,
          7.713022,
          0.5108967,
          4.431183,
          24.33502,
          8.548458,
          0,
          0,
          0,
          0,
          0,
          0,
          0,
          0,
          2.7155437,
          5.3453026,
          22.669388,
          47.618256,
          35.00931,
          10.7133255,
          7.870718,
          3.4193058,
          4.759413,
          2.5756855,
          0.037324928,
          5.1386623,
          0.7712307,
          5.569029,
          19.60798,
          8.0541115,
          0,
          0.5294666,
          0,
          0,
          0,
          0,
          0,
          0.34173778,
          1.8318806,
          1.0163441,
          19.027246,
          42.97558,
          33.06635,
          10.856688,
          9.677599,
          3.9320755,
          1.1408558,
          3.9458046,
          0,
          0.7679806,
          0.6331005,
          4.046623,
          16.088808,
          10.971832,
          1.3535976,
          0,
          0,
          0,
          0,
          0,
          0,
          0,
          0.06574824,
          4.435343,
          17.125172,
          31.073572,
          31.93628,
          12.8363,
          6.879526
         ]
        },
        {
         "line": {
          "color": "blue"
         },
         "mode": "lines",
         "name": "CNN MULTILAYER",
         "type": "scatter",
         "x": [
          0,
          1,
          2,
          3,
          4,
          5,
          6,
          7,
          8,
          9,
          10,
          11,
          12,
          13,
          14,
          15,
          16,
          17,
          18,
          19,
          20,
          21,
          22,
          23,
          24,
          25,
          26,
          27,
          28,
          29,
          30,
          31,
          32,
          33,
          34,
          35,
          36,
          37,
          38,
          39,
          40,
          41,
          42,
          43,
          44,
          45,
          46,
          47,
          48,
          49,
          50,
          51,
          52,
          53,
          54,
          55,
          56,
          57,
          58,
          59,
          60,
          61,
          62,
          63,
          64,
          65,
          66,
          67,
          68,
          69,
          70,
          71,
          72,
          73,
          74,
          75,
          76,
          77,
          78,
          79,
          80,
          81,
          82,
          83,
          84,
          85,
          86,
          87,
          88,
          89,
          90,
          91,
          92,
          93,
          94,
          95,
          96,
          97,
          98,
          99,
          100,
          101,
          102,
          103,
          104,
          105,
          106,
          107,
          108,
          109,
          110,
          111,
          112,
          113,
          114,
          115,
          116,
          117,
          118,
          119,
          120,
          121,
          122,
          123,
          124,
          125,
          126,
          127,
          128,
          129,
          130,
          131,
          132,
          133,
          134,
          135,
          136,
          137,
          138,
          139,
          140,
          141,
          142,
          143
         ],
         "y": [
          4.74543,
          0.818552,
          0,
          0.7382755,
          0.0070133423,
          0,
          6.83803,
          18.58896,
          17.002533,
          4.005169,
          0,
          0.28520778,
          0,
          0,
          0,
          0,
          0,
          0.16425134,
          5.935751,
          19.52258,
          37.30846,
          30.229355,
          18.217335,
          9.1565,
          2.5551395,
          0,
          0,
          0,
          0,
          0,
          3.9785004,
          13.530514,
          14.319603,
          1.4522152,
          0,
          0,
          0,
          0,
          0,
          0,
          0,
          0,
          6.4158783,
          19.745842,
          40.08908,
          31.472126,
          16.087318,
          8.438078,
          6.877552,
          3.89678,
          0,
          0.43557552,
          1.0938244,
          1.2235546,
          8.430147,
          19.057356,
          20.206785,
          3.075121,
          0,
          0,
          0,
          0,
          0,
          0,
          0,
          0,
          10.403038,
          27.768908,
          49.288506,
          37.023438,
          20.80331,
          13.750511,
          3.7619114,
          0.5886669,
          0,
          0,
          0,
          0,
          6.519413,
          19.097803,
          15.734774,
          2.2311497,
          0,
          0,
          0,
          0,
          0,
          0,
          0,
          0.026472114,
          5.688423,
          19.479143,
          41.330154,
          31.099867,
          16.9084,
          9.047081,
          2.7204685,
          0,
          0,
          0,
          0,
          0,
          5.5419407,
          17.354229,
          14.267216,
          2.1453648,
          0,
          0,
          0,
          0,
          0,
          0,
          0,
          0,
          4.5874863,
          16.748392,
          36.42791,
          29.604168,
          15.790104,
          7.3349,
          3.1304722,
          0,
          0,
          0,
          0,
          0,
          6.4171124,
          16.755102,
          13.876585,
          4.4205437,
          0,
          1.2976513,
          0.8793659,
          0.34450343,
          0,
          0,
          0,
          0.94797707,
          4.333185,
          13.715168,
          30.602335,
          27.453075,
          16.26228,
          6.6593857
         ]
        },
        {
         "line": {
          "color": "black"
         },
         "mode": "lines",
         "name": "CNN DROP + REG",
         "type": "scatter",
         "x": [
          0,
          1,
          2,
          3,
          4,
          5,
          6,
          7,
          8,
          9,
          10,
          11,
          12,
          13,
          14,
          15,
          16,
          17,
          18,
          19,
          20,
          21,
          22,
          23,
          24,
          25,
          26,
          27,
          28,
          29,
          30,
          31,
          32,
          33,
          34,
          35,
          36,
          37,
          38,
          39,
          40,
          41,
          42,
          43,
          44,
          45,
          46,
          47,
          48,
          49,
          50,
          51,
          52,
          53,
          54,
          55,
          56,
          57,
          58,
          59,
          60,
          61,
          62,
          63,
          64,
          65,
          66,
          67,
          68,
          69,
          70,
          71,
          72,
          73,
          74,
          75,
          76,
          77,
          78,
          79,
          80,
          81,
          82,
          83,
          84,
          85,
          86,
          87,
          88,
          89,
          90,
          91,
          92,
          93,
          94,
          95,
          96,
          97,
          98,
          99,
          100,
          101,
          102,
          103,
          104,
          105,
          106,
          107,
          108,
          109,
          110,
          111,
          112,
          113,
          114,
          115,
          116,
          117,
          118,
          119,
          120,
          121,
          122,
          123,
          124,
          125,
          126,
          127,
          128,
          129,
          130,
          131,
          132,
          133,
          134,
          135,
          136,
          137,
          138,
          139,
          140,
          141,
          142,
          143
         ],
         "y": [
          11.203062,
          9.483473,
          7.953003,
          7.8806343,
          9.6075115,
          6.498974,
          13.265175,
          23.032722,
          21.346624,
          11.162201,
          7.2782936,
          7.0581856,
          6.8553047,
          6.6701202,
          6.7498684,
          7.670126,
          7.9087486,
          6.1517944,
          7.8643265,
          17.448334,
          26.756462,
          26.635319,
          17.166237,
          13.953865,
          6.8082027,
          3.427679,
          1.2637539,
          3.5904942,
          3.8576736,
          4.0364513,
          7.272537,
          21.862825,
          17.604174,
          6.6880302,
          1.0999928,
          1.6443882,
          0,
          0.7536106,
          0.1718197,
          1.5875454,
          2.3383236,
          2.9610577,
          8.413071,
          22.161253,
          38.970592,
          33.178356,
          20.50854,
          13.753086,
          11.388758,
          6.212118,
          2.5463696,
          7.2411976,
          6.382408,
          5.957487,
          9.500675,
          27.245287,
          20.071497,
          9.706509,
          3.3504581,
          1.3436451,
          0,
          1.3765469,
          0.6924381,
          3.166891,
          3.05826,
          6.133875,
          17.780695,
          31.429508,
          52.14815,
          41.227165,
          28.196999,
          19.780043,
          5.6630974,
          5.199339,
          0.95573235,
          3.0138378,
          4.8092995,
          2.0019855,
          8.475,
          18.432772,
          15.586294,
          4.859108,
          1.8666973,
          2.2914028,
          0.28354076,
          2.1389256,
          1.1113682,
          2.1788769,
          2.9340076,
          1.6920376,
          3.790081,
          14.950239,
          29.653887,
          26.703096,
          14.823389,
          10.52739,
          8.1224575,
          8.426771,
          4.9043617,
          5.277725,
          7.0948734,
          4.1659718,
          10.343744,
          18.506626,
          17.707272,
          7.7845135,
          4.9166737,
          5.4718246,
          4.3642807,
          4.849924,
          4.9702168,
          5.92803,
          5.7957783,
          3.7066288,
          3.1672306,
          13.240717,
          23.508926,
          23.76026,
          13.318657,
          10.236658,
          10.551235,
          9.468939,
          7.948576,
          7.0322533,
          9.357592,
          7.057354,
          12.863335,
          22.237116,
          20.308334,
          10.368574,
          7.8409767,
          7.218687,
          7.275011,
          6.2912636,
          7.345543,
          8.10018,
          8.167786,
          5.911352,
          7.574257,
          17.425621,
          26.756987,
          26.126999,
          16.986778,
          13.460741
         ]
        },
        {
         "line": {
          "color": "orange"
         },
         "mode": "lines",
         "name": "CNN + LSTM",
         "type": "scatter",
         "x": [
          0,
          1,
          2,
          3,
          4,
          5,
          6,
          7,
          8,
          9,
          10,
          11,
          12,
          13,
          14,
          15,
          16,
          17,
          18,
          19,
          20,
          21,
          22,
          23,
          24,
          25,
          26,
          27,
          28,
          29,
          30,
          31,
          32,
          33,
          34,
          35,
          36,
          37,
          38,
          39,
          40,
          41,
          42,
          43,
          44,
          45,
          46,
          47,
          48,
          49,
          50,
          51,
          52,
          53,
          54,
          55,
          56,
          57,
          58,
          59,
          60,
          61,
          62,
          63,
          64,
          65,
          66,
          67,
          68,
          69,
          70,
          71,
          72,
          73,
          74,
          75,
          76,
          77,
          78,
          79,
          80,
          81,
          82,
          83,
          84,
          85,
          86,
          87,
          88,
          89,
          90,
          91,
          92,
          93,
          94,
          95,
          96,
          97,
          98,
          99,
          100,
          101,
          102,
          103,
          104,
          105,
          106,
          107,
          108,
          109,
          110,
          111,
          112,
          113,
          114,
          115,
          116,
          117,
          118,
          119,
          120,
          121,
          122,
          123,
          124,
          125,
          126,
          127,
          128,
          129,
          130,
          131,
          132,
          133,
          134,
          135,
          136,
          137,
          138,
          139,
          140,
          141,
          142,
          143
         ],
         "y": [
          5.551794,
          2.1011372,
          1.3561954,
          0.14807321,
          1.1950588,
          2.2627926,
          7.982668,
          16.174974,
          15.400057,
          6.040018,
          0.21209528,
          0.20622827,
          0,
          0.19301797,
          0,
          0,
          0,
          0.66002846,
          7.795004,
          18.57121,
          34.9129,
          28.730412,
          16.12764,
          10.31007,
          2.3165035,
          0,
          0,
          0,
          0,
          0,
          4.625868,
          11.982561,
          11.97579,
          4.885666,
          0,
          0,
          0,
          0,
          0,
          0,
          0,
          0,
          5.0322914,
          12.880398,
          28.462814,
          24.057507,
          12.159035,
          7.158968,
          5.7357254,
          1.5593624,
          1.0076351,
          0,
          0.74704933,
          2.3163548,
          8.185997,
          16.780672,
          15.3429165,
          5.264887,
          0,
          0,
          0,
          0,
          0,
          0,
          0,
          0,
          8.005299,
          19.75838,
          36.529205,
          30.101196,
          16.862112,
          10.331938,
          3.9460258,
          0.8320141,
          0.34490016,
          0,
          0.13369943,
          1.0088902,
          6.4189434,
          14.233408,
          13.7384815,
          5.3128033,
          0,
          0,
          0,
          0,
          0,
          0,
          0,
          0.0961056,
          6.4473114,
          15.940462,
          32.043346,
          26.624327,
          14.270201,
          8.82383,
          3.9441605,
          0.80280876,
          0.29574016,
          0,
          0.08942606,
          1.0466976,
          6.481518,
          14.368181,
          13.806723,
          5.251854,
          0,
          0,
          0,
          0,
          0,
          0,
          0,
          0.0017872072,
          6.4418335,
          16.131199,
          32.332233,
          26.824617,
          14.36408,
          8.882473,
          5.964964,
          2.9343586,
          1.9145489,
          0.96819496,
          1.8417645,
          2.6652317,
          8.434172,
          16.600473,
          15.971867,
          6.6250305,
          0.8757191,
          0.7554455,
          0.107812904,
          0.58364296,
          0.42823222,
          0.2783871,
          0.07788279,
          1.301939,
          8.139383,
          18.880772,
          35.145706,
          28.829752,
          16.329456,
          10.777149
         ]
        }
       ],
       "layout": {
        "template": {
         "data": {
          "bar": [
           {
            "error_x": {
             "color": "#2a3f5f"
            },
            "error_y": {
             "color": "#2a3f5f"
            },
            "marker": {
             "line": {
              "color": "#E5ECF6",
              "width": 0.5
             },
             "pattern": {
              "fillmode": "overlay",
              "size": 10,
              "solidity": 0.2
             }
            },
            "type": "bar"
           }
          ],
          "barpolar": [
           {
            "marker": {
             "line": {
              "color": "#E5ECF6",
              "width": 0.5
             },
             "pattern": {
              "fillmode": "overlay",
              "size": 10,
              "solidity": 0.2
             }
            },
            "type": "barpolar"
           }
          ],
          "carpet": [
           {
            "aaxis": {
             "endlinecolor": "#2a3f5f",
             "gridcolor": "white",
             "linecolor": "white",
             "minorgridcolor": "white",
             "startlinecolor": "#2a3f5f"
            },
            "baxis": {
             "endlinecolor": "#2a3f5f",
             "gridcolor": "white",
             "linecolor": "white",
             "minorgridcolor": "white",
             "startlinecolor": "#2a3f5f"
            },
            "type": "carpet"
           }
          ],
          "choropleth": [
           {
            "colorbar": {
             "outlinewidth": 0,
             "ticks": ""
            },
            "type": "choropleth"
           }
          ],
          "contour": [
           {
            "colorbar": {
             "outlinewidth": 0,
             "ticks": ""
            },
            "colorscale": [
             [
              0,
              "#0d0887"
             ],
             [
              0.1111111111111111,
              "#46039f"
             ],
             [
              0.2222222222222222,
              "#7201a8"
             ],
             [
              0.3333333333333333,
              "#9c179e"
             ],
             [
              0.4444444444444444,
              "#bd3786"
             ],
             [
              0.5555555555555556,
              "#d8576b"
             ],
             [
              0.6666666666666666,
              "#ed7953"
             ],
             [
              0.7777777777777778,
              "#fb9f3a"
             ],
             [
              0.8888888888888888,
              "#fdca26"
             ],
             [
              1,
              "#f0f921"
             ]
            ],
            "type": "contour"
           }
          ],
          "contourcarpet": [
           {
            "colorbar": {
             "outlinewidth": 0,
             "ticks": ""
            },
            "type": "contourcarpet"
           }
          ],
          "heatmap": [
           {
            "colorbar": {
             "outlinewidth": 0,
             "ticks": ""
            },
            "colorscale": [
             [
              0,
              "#0d0887"
             ],
             [
              0.1111111111111111,
              "#46039f"
             ],
             [
              0.2222222222222222,
              "#7201a8"
             ],
             [
              0.3333333333333333,
              "#9c179e"
             ],
             [
              0.4444444444444444,
              "#bd3786"
             ],
             [
              0.5555555555555556,
              "#d8576b"
             ],
             [
              0.6666666666666666,
              "#ed7953"
             ],
             [
              0.7777777777777778,
              "#fb9f3a"
             ],
             [
              0.8888888888888888,
              "#fdca26"
             ],
             [
              1,
              "#f0f921"
             ]
            ],
            "type": "heatmap"
           }
          ],
          "heatmapgl": [
           {
            "colorbar": {
             "outlinewidth": 0,
             "ticks": ""
            },
            "colorscale": [
             [
              0,
              "#0d0887"
             ],
             [
              0.1111111111111111,
              "#46039f"
             ],
             [
              0.2222222222222222,
              "#7201a8"
             ],
             [
              0.3333333333333333,
              "#9c179e"
             ],
             [
              0.4444444444444444,
              "#bd3786"
             ],
             [
              0.5555555555555556,
              "#d8576b"
             ],
             [
              0.6666666666666666,
              "#ed7953"
             ],
             [
              0.7777777777777778,
              "#fb9f3a"
             ],
             [
              0.8888888888888888,
              "#fdca26"
             ],
             [
              1,
              "#f0f921"
             ]
            ],
            "type": "heatmapgl"
           }
          ],
          "histogram": [
           {
            "marker": {
             "pattern": {
              "fillmode": "overlay",
              "size": 10,
              "solidity": 0.2
             }
            },
            "type": "histogram"
           }
          ],
          "histogram2d": [
           {
            "colorbar": {
             "outlinewidth": 0,
             "ticks": ""
            },
            "colorscale": [
             [
              0,
              "#0d0887"
             ],
             [
              0.1111111111111111,
              "#46039f"
             ],
             [
              0.2222222222222222,
              "#7201a8"
             ],
             [
              0.3333333333333333,
              "#9c179e"
             ],
             [
              0.4444444444444444,
              "#bd3786"
             ],
             [
              0.5555555555555556,
              "#d8576b"
             ],
             [
              0.6666666666666666,
              "#ed7953"
             ],
             [
              0.7777777777777778,
              "#fb9f3a"
             ],
             [
              0.8888888888888888,
              "#fdca26"
             ],
             [
              1,
              "#f0f921"
             ]
            ],
            "type": "histogram2d"
           }
          ],
          "histogram2dcontour": [
           {
            "colorbar": {
             "outlinewidth": 0,
             "ticks": ""
            },
            "colorscale": [
             [
              0,
              "#0d0887"
             ],
             [
              0.1111111111111111,
              "#46039f"
             ],
             [
              0.2222222222222222,
              "#7201a8"
             ],
             [
              0.3333333333333333,
              "#9c179e"
             ],
             [
              0.4444444444444444,
              "#bd3786"
             ],
             [
              0.5555555555555556,
              "#d8576b"
             ],
             [
              0.6666666666666666,
              "#ed7953"
             ],
             [
              0.7777777777777778,
              "#fb9f3a"
             ],
             [
              0.8888888888888888,
              "#fdca26"
             ],
             [
              1,
              "#f0f921"
             ]
            ],
            "type": "histogram2dcontour"
           }
          ],
          "mesh3d": [
           {
            "colorbar": {
             "outlinewidth": 0,
             "ticks": ""
            },
            "type": "mesh3d"
           }
          ],
          "parcoords": [
           {
            "line": {
             "colorbar": {
              "outlinewidth": 0,
              "ticks": ""
             }
            },
            "type": "parcoords"
           }
          ],
          "pie": [
           {
            "automargin": true,
            "type": "pie"
           }
          ],
          "scatter": [
           {
            "fillpattern": {
             "fillmode": "overlay",
             "size": 10,
             "solidity": 0.2
            },
            "type": "scatter"
           }
          ],
          "scatter3d": [
           {
            "line": {
             "colorbar": {
              "outlinewidth": 0,
              "ticks": ""
             }
            },
            "marker": {
             "colorbar": {
              "outlinewidth": 0,
              "ticks": ""
             }
            },
            "type": "scatter3d"
           }
          ],
          "scattercarpet": [
           {
            "marker": {
             "colorbar": {
              "outlinewidth": 0,
              "ticks": ""
             }
            },
            "type": "scattercarpet"
           }
          ],
          "scattergeo": [
           {
            "marker": {
             "colorbar": {
              "outlinewidth": 0,
              "ticks": ""
             }
            },
            "type": "scattergeo"
           }
          ],
          "scattergl": [
           {
            "marker": {
             "colorbar": {
              "outlinewidth": 0,
              "ticks": ""
             }
            },
            "type": "scattergl"
           }
          ],
          "scattermapbox": [
           {
            "marker": {
             "colorbar": {
              "outlinewidth": 0,
              "ticks": ""
             }
            },
            "type": "scattermapbox"
           }
          ],
          "scatterpolar": [
           {
            "marker": {
             "colorbar": {
              "outlinewidth": 0,
              "ticks": ""
             }
            },
            "type": "scatterpolar"
           }
          ],
          "scatterpolargl": [
           {
            "marker": {
             "colorbar": {
              "outlinewidth": 0,
              "ticks": ""
             }
            },
            "type": "scatterpolargl"
           }
          ],
          "scatterternary": [
           {
            "marker": {
             "colorbar": {
              "outlinewidth": 0,
              "ticks": ""
             }
            },
            "type": "scatterternary"
           }
          ],
          "surface": [
           {
            "colorbar": {
             "outlinewidth": 0,
             "ticks": ""
            },
            "colorscale": [
             [
              0,
              "#0d0887"
             ],
             [
              0.1111111111111111,
              "#46039f"
             ],
             [
              0.2222222222222222,
              "#7201a8"
             ],
             [
              0.3333333333333333,
              "#9c179e"
             ],
             [
              0.4444444444444444,
              "#bd3786"
             ],
             [
              0.5555555555555556,
              "#d8576b"
             ],
             [
              0.6666666666666666,
              "#ed7953"
             ],
             [
              0.7777777777777778,
              "#fb9f3a"
             ],
             [
              0.8888888888888888,
              "#fdca26"
             ],
             [
              1,
              "#f0f921"
             ]
            ],
            "type": "surface"
           }
          ],
          "table": [
           {
            "cells": {
             "fill": {
              "color": "#EBF0F8"
             },
             "line": {
              "color": "white"
             }
            },
            "header": {
             "fill": {
              "color": "#C8D4E3"
             },
             "line": {
              "color": "white"
             }
            },
            "type": "table"
           }
          ]
         },
         "layout": {
          "annotationdefaults": {
           "arrowcolor": "#2a3f5f",
           "arrowhead": 0,
           "arrowwidth": 1
          },
          "autotypenumbers": "strict",
          "coloraxis": {
           "colorbar": {
            "outlinewidth": 0,
            "ticks": ""
           }
          },
          "colorscale": {
           "diverging": [
            [
             0,
             "#8e0152"
            ],
            [
             0.1,
             "#c51b7d"
            ],
            [
             0.2,
             "#de77ae"
            ],
            [
             0.3,
             "#f1b6da"
            ],
            [
             0.4,
             "#fde0ef"
            ],
            [
             0.5,
             "#f7f7f7"
            ],
            [
             0.6,
             "#e6f5d0"
            ],
            [
             0.7,
             "#b8e186"
            ],
            [
             0.8,
             "#7fbc41"
            ],
            [
             0.9,
             "#4d9221"
            ],
            [
             1,
             "#276419"
            ]
           ],
           "sequential": [
            [
             0,
             "#0d0887"
            ],
            [
             0.1111111111111111,
             "#46039f"
            ],
            [
             0.2222222222222222,
             "#7201a8"
            ],
            [
             0.3333333333333333,
             "#9c179e"
            ],
            [
             0.4444444444444444,
             "#bd3786"
            ],
            [
             0.5555555555555556,
             "#d8576b"
            ],
            [
             0.6666666666666666,
             "#ed7953"
            ],
            [
             0.7777777777777778,
             "#fb9f3a"
            ],
            [
             0.8888888888888888,
             "#fdca26"
            ],
            [
             1,
             "#f0f921"
            ]
           ],
           "sequentialminus": [
            [
             0,
             "#0d0887"
            ],
            [
             0.1111111111111111,
             "#46039f"
            ],
            [
             0.2222222222222222,
             "#7201a8"
            ],
            [
             0.3333333333333333,
             "#9c179e"
            ],
            [
             0.4444444444444444,
             "#bd3786"
            ],
            [
             0.5555555555555556,
             "#d8576b"
            ],
            [
             0.6666666666666666,
             "#ed7953"
            ],
            [
             0.7777777777777778,
             "#fb9f3a"
            ],
            [
             0.8888888888888888,
             "#fdca26"
            ],
            [
             1,
             "#f0f921"
            ]
           ]
          },
          "colorway": [
           "#636efa",
           "#EF553B",
           "#00cc96",
           "#ab63fa",
           "#FFA15A",
           "#19d3f3",
           "#FF6692",
           "#B6E880",
           "#FF97FF",
           "#FECB52"
          ],
          "font": {
           "color": "#2a3f5f"
          },
          "geo": {
           "bgcolor": "white",
           "lakecolor": "white",
           "landcolor": "#E5ECF6",
           "showlakes": true,
           "showland": true,
           "subunitcolor": "white"
          },
          "hoverlabel": {
           "align": "left"
          },
          "hovermode": "closest",
          "mapbox": {
           "style": "light"
          },
          "paper_bgcolor": "white",
          "plot_bgcolor": "#E5ECF6",
          "polar": {
           "angularaxis": {
            "gridcolor": "white",
            "linecolor": "white",
            "ticks": ""
           },
           "bgcolor": "#E5ECF6",
           "radialaxis": {
            "gridcolor": "white",
            "linecolor": "white",
            "ticks": ""
           }
          },
          "scene": {
           "xaxis": {
            "backgroundcolor": "#E5ECF6",
            "gridcolor": "white",
            "gridwidth": 2,
            "linecolor": "white",
            "showbackground": true,
            "ticks": "",
            "zerolinecolor": "white"
           },
           "yaxis": {
            "backgroundcolor": "#E5ECF6",
            "gridcolor": "white",
            "gridwidth": 2,
            "linecolor": "white",
            "showbackground": true,
            "ticks": "",
            "zerolinecolor": "white"
           },
           "zaxis": {
            "backgroundcolor": "#E5ECF6",
            "gridcolor": "white",
            "gridwidth": 2,
            "linecolor": "white",
            "showbackground": true,
            "ticks": "",
            "zerolinecolor": "white"
           }
          },
          "shapedefaults": {
           "line": {
            "color": "#2a3f5f"
           }
          },
          "ternary": {
           "aaxis": {
            "gridcolor": "white",
            "linecolor": "white",
            "ticks": ""
           },
           "baxis": {
            "gridcolor": "white",
            "linecolor": "white",
            "ticks": ""
           },
           "bgcolor": "#E5ECF6",
           "caxis": {
            "gridcolor": "white",
            "linecolor": "white",
            "ticks": ""
           }
          },
          "title": {
           "x": 0.05
          },
          "xaxis": {
           "automargin": true,
           "gridcolor": "white",
           "linecolor": "white",
           "ticks": "",
           "title": {
            "standoff": 15
           },
           "zerolinecolor": "white",
           "zerolinewidth": 2
          },
          "yaxis": {
           "automargin": true,
           "gridcolor": "white",
           "linecolor": "white",
           "ticks": "",
           "title": {
            "standoff": 15
           },
           "zerolinecolor": "white",
           "zerolinewidth": 2
          }
         }
        },
        "title": {
         "text": "Predicciones de la serie temporal"
        },
        "xaxis": {
         "anchor": "y",
         "domain": [
          0,
          1
         ],
         "title": {
          "text": "Fecha"
         }
        },
        "yaxis": {
         "anchor": "x",
         "domain": [
          0,
          1
         ],
         "title": {
          "text": "Valor"
         }
        }
       }
      }
     },
     "metadata": {},
     "output_type": "display_data"
    }
   ],
   "source": [
    "import plotly.graph_objs as go\n",
    "from plotly.subplots import make_subplots\n",
    "\n",
    "# Crear la figura\n",
    "fig = make_subplots(rows=1, cols=1)\n",
    "\n",
    "# Agregar las líneas de datos\n",
    "fig.add_trace(go.Scatter(x=list(range(len(y_val.flatten()))), y=y_val.flatten(), mode='lines', name='Real', line=dict(color='green')))\n",
    "fig.add_trace(go.Scatter(x=list(range(len(y_pred_basic.flatten()))), y=y_pred_basic.flatten(), mode='lines', name='CNN BASIC', line=dict(color='red')))\n",
    "fig.add_trace(go.Scatter(x=list(range(len(y_pred_multi.flatten()))), y=y_pred_multi.flatten(), mode='lines', name='CNN MULTILAYER', line=dict(color='blue')))\n",
    "fig.add_trace(go.Scatter(x=list(range(len(y_pred_drop.flatten()))), y=y_pred_drop.flatten(), mode='lines', name='CNN DROP + REG', line=dict(color='black')))\n",
    "fig.add_trace(go.Scatter(x=list(range(len(y_pred_cnn_lstm.flatten()))), y=y_pred_cnn_lstm.flatten(), mode='lines', name='CNN + LSTM', line=dict(color='orange')))\n",
    "\n",
    "# Actualizar el diseño del gráfico\n",
    "fig.update_layout(title='Predicciones de la serie temporal', xaxis_title='Fecha', yaxis_title='Valor')\n",
    "\n",
    "# Mostrar el gráfico\n",
    "fig.show()\n"
   ]
  },
  {
   "cell_type": "markdown",
   "id": "d7efa40c",
   "metadata": {},
   "source": [
    "Como podemos ver ambos modelos predicen de forma muy similar. Puesto que la mayor dificultad se encuentra en hallar la magnitud de los picos y sus metricas son ligeramente mejores optamos por seleccionar como mejor modelo la red CNN con capas LSTM."
   ]
  },
  {
   "cell_type": "markdown",
   "id": "8097ba3f",
   "metadata": {},
   "source": [
    "# TEST"
   ]
  },
  {
   "cell_type": "markdown",
   "id": "f651cbf2",
   "metadata": {},
   "source": [
    "Evaluamos el modelo ganador con los datos de test."
   ]
  },
  {
   "cell_type": "code",
   "execution_count": 56,
   "id": "78bf8a8f",
   "metadata": {},
   "outputs": [
    {
     "name": "stdout",
     "output_type": "stream",
     "text": [
      "1/1 [==============================] - 0s 24ms/step\n",
      "Mean Squared Error (MSE): 105.41291196833551\n",
      "Mean Absolute Error (MAE): 5.396424008339\n",
      "Valor de custom loss: 825214.8321280521\n"
     ]
    },
    {
     "data": {
      "image/png": "[encoded data removed]",
      "text/plain": [
       "<Figure size 1000x600 with 1 Axes>"
      ]
     },
     "metadata": {},
     "output_type": "display_data"
    }
   ],
   "source": [
    "\n",
    "# Hacer predicciones\n",
    "y_pred_test = cnn_lstm.predict(X_test)\n",
    "\n",
    "y_pred_test = scaler_precio_spot.inverse_transform(y_pred_test)\n",
    "y_pred_test = np.where(y_pred_test < 0, 0, y_pred_test)\n",
    "\n",
    "mse = mean_squared_error(y_test, y_pred_test)\n",
    "print('Mean Squared Error (MSE):', mse)\n",
    "\n",
    "# Calcular el Error Absoluto Medio (MAE)\n",
    "mae = mean_absolute_error(y_test, y_pred_test)\n",
    "print('Mean Absolute Error (MAE):', mae)\n",
    "\n",
    "metric_value = custom_loss(y_test, y_pred_test)\n",
    "print(\"Valor de custom loss:\", metric_value.numpy())\n",
    "\n",
    "\n",
    "plt.figure(figsize=(10, 6))\n",
    "plt.plot(y_test.flatten(), label='Valores reales')\n",
    "plt.plot(y_pred_test.flatten(), label='Predicciones')\n",
    "plt.title('Predicciones vs. Valores Reales')\n",
    "plt.xlabel('Índice')\n",
    "plt.ylabel('Valor')\n",
    "plt.legend()\n",
    "plt.show()"
   ]
  },
  {
   "cell_type": "markdown",
   "id": "bc969a3a",
   "metadata": {},
   "source": [
    "Como podemos observar en los datos de test obtenemos unas predicciones satisfactorias. En este tramo de 15 dias (360 horas) de media nos hemos equivocado tan solo en 5,39€, lo cual es un resultado positivo. En general los picos parecen predecirse correctamente, teniendo mayor dificultad en aquellos que se alejan de la magnitud usual de estos dias."
   ]
  }
 ],
 "metadata": {
  "accelerator": "GPU",
  "colab": {
   "gpuType": "T4",
   "provenance": [],
   "toc_visible": true
  },
  "kernelspec": {
   "display_name": "Python 3 (ipykernel)",
   "language": "python",
   "name": "python3"
  },
  "language_info": {
   "codemirror_mode": {
    "name": "ipython",
    "version": 3
   },
   "file_extension": ".py",
   "mimetype": "text/x-python",
   "name": "python",
   "nbconvert_exporter": "python",
   "pygments_lexer": "ipython3",
   "version": "3.8.5"
  }
 },
 "nbformat": 4,
 "nbformat_minor": 5
}
